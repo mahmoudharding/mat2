{
  "cells": [
    {
      "cell_type": "markdown",
      "metadata": {
        "tags": [],
        "cell_id": "6302a00639cd4c68890456f4482623b4",
        "deepnote_cell_type": "markdown",
        "id": "O7Tyae5ZY8zk"
      },
      "source": [
        "## Simple Linear Regression"
      ]
    },
    {
      "cell_type": "markdown",
      "metadata": {
        "cell_id": "e247b943e5ec4f639604eaedce331a0e",
        "deepnote_cell_type": "markdown",
        "id": "x52PNc9WY8zl"
      },
      "source": [
        "<div class=\"alert alert-block alert-info\"><b>Instructor Note:</b> This notebook is intended to introduce students to simple linear regression. We'll work with a dataset that contains information about various types of fish. The <code>fish</code> dataset was submitted by Juha Puranen from the University of Helsinki and can be found <a href = \"https://jse.amstat.org/datasets/fishcatch.dat.txt\" >here</a>.\n",
        "<br>In this notebook, you will...\n",
        "<li>Fit a simple regression models </li><li>Interpret the coefficients of simple regression models </li><li>Compare the strength of different simple regression models</li></div>"
      ]
    },
    {
      "cell_type": "code",
      "metadata": {
        "tags": [],
        "cell_id": "5d4817375f234813899c665cab618f8c",
        "source_hash": null,
        "output_cleared": false,
        "execution_start": 1690557473304,
        "execution_millis": 9076,
        "deepnote_to_be_reexecuted": false,
        "deepnote_cell_type": "code",
        "id": "1C4OiVFVY8zl"
      },
      "source": [
        "## Run this code but do not edit it. Hit Ctrl+Enter to run the code.\n",
        "# This command downloads and installs a useful package of R\n",
        "# commands for constructing visualizations\n",
        "install.packages(\"ggformula\", quiet = TRUE, verbose = FALSE)\n",
        "\n",
        "# This command loads useful packages of R commands into your\n",
        "# notebook for manipulating data and constructing visualizations\n",
        "suppressPackageStartupMessages({\n",
        "    library(dplyr)\n",
        "    library(ggplot2)\n",
        "    library(ggformula)\n",
        "})\n",
        "\n",
        "# This command sets the theme for the visualizations in\n",
        "# this notebook\n",
        "theme_set(\n",
        "  theme_light() +\n",
        "  theme(\n",
        "    panel.background = element_rect(fill = \"white\", colour = \"white\"),\n",
        "    plot.background = element_blank(),\n",
        "    axis.line = element_line(color = \"black\")\n",
        "  )\n",
        ")"
      ],
      "execution_count": null,
      "outputs": []
    },
    {
      "cell_type": "markdown",
      "metadata": {
        "tags": [],
        "cell_id": "0e7e737bbcb94e198ea0cc422cd9aca9",
        "deepnote_cell_type": "markdown",
        "id": "E103YfoDY8zl"
      },
      "source": [
        "#### The Dataset (`fish.csv`)\n",
        "In this notebook, we'll be using the `fish.csv` file, which includes data about 7 common different fish species in fish market sales.\n",
        "\n",
        "This dataset originally comes from Juha Puranen from the Departement of Statistics at the University of Helsinki, Finland. The researchers wanted to develop a model that could be used to predict the weight of a fish.\n",
        "\n",
        "\n",
        "##### Variables\n",
        "- `Species` --> categorical | Perch, Bream, Other\n",
        "- `Weight` --> quantitative | Weight of the fish (in grams)\n",
        "- `Length1` --> quantitative | Length from the nose to the beginning of the tail (in cm)\n",
        "- `Length2` --> quantitative | Length from the nose to the notch of the tail (in cm)\n",
        "- `Length3` --> quantitative | Length from the nose to the end of the tail (in cm)\n",
        "- `Height` --> quantitative | Maximal height as % of Length3\n",
        "- `Width` --> quantitative | Maximal width as % of Length3  \n",
        "\n",
        "##### Detailed description, diagram of measurements and abstract notes can be found <a href=\"https://jse.amstat.org/datasets/fishcatch.txt\">here</a>."
      ]
    },
    {
      "cell_type": "markdown",
      "metadata": {
        "tags": [],
        "cell_id": "83a1144e966e46628d21f9e6987cb27e",
        "deepnote_cell_type": "markdown",
        "id": "cBZ_x_qsY8zl"
      },
      "source": [
        "### 1.0 - Exploratory Data Analysis"
      ]
    },
    {
      "cell_type": "markdown",
      "metadata": {
        "tags": [],
        "cell_id": "81839a453fd54e2a87431dbe7b44b8cc",
        "deepnote_cell_type": "markdown",
        "id": "f0FS2jorY8zm"
      },
      "source": [
        "To begin, let's download our data. We'll download the `fish.csv` file and store it in an R dataframe called `dat`."
      ]
    },
    {
      "cell_type": "code",
      "metadata": {
        "tags": [],
        "cell_id": "306402c9730c4010a90515f28c09d9ef",
        "source_hash": null,
        "output_cleared": false,
        "execution_start": 1690557482407,
        "execution_millis": 37,
        "deepnote_to_be_reexecuted": false,
        "deepnote_cell_type": "code",
        "id": "ap-gW0qKY8zm"
      },
      "source": [
        "## Run this code but do not edit it. Hit Ctrl+Enter to run the code.\n",
        "# This command saves the fish.csv to a dataframe\n",
        "url <- 'https://raw.githubusercontent.com/mahmoudharding/ma2/main/lesson14/data/fish.csv'\n",
        "dat <- read.csv(url)"
      ],
      "execution_count": null,
      "outputs": []
    },
    {
      "cell_type": "markdown",
      "metadata": {
        "tags": [],
        "cell_id": "fd7ff1741dce4459b6f94da979b3db5f",
        "deepnote_cell_type": "markdown",
        "id": "iXxQGWTOY8zm"
      },
      "source": [
        "**Question 1.1 -** Use the `head` command to print out the first several rows of the dataset."
      ]
    },
    {
      "cell_type": "code",
      "metadata": {
        "tags": [],
        "cell_id": "1390d9fc03574317a99adf486bbecfa2",
        "source_hash": null,
        "output_cleared": false,
        "execution_start": 1690557482441,
        "execution_millis": 175,
        "deepnote_to_be_reexecuted": false,
        "deepnote_cell_type": "code",
        "id": "7hvSuj4WY8zm"
      },
      "source": [
        "## Sample Response\n",
        "# Print head of dataset\n",
        "head(dat)"
      ],
      "execution_count": null,
      "outputs": []
    },
    {
      "cell_type": "markdown",
      "metadata": {
        "tags": [],
        "cell_id": "fe4eba5878804d7cb9304ef7e2e14307",
        "deepnote_cell_type": "markdown",
        "id": "O0cLde0AY8zm"
      },
      "source": [
        "**Question 1.2 -** Use the `dim` command to find the number of fish (rows) and number of variables (columns) in our data set."
      ]
    },
    {
      "cell_type": "code",
      "metadata": {
        "tags": [],
        "cell_id": "0cf3ee6e1bd54e11a324e213fd8aa07a",
        "source_hash": null,
        "output_cleared": false,
        "execution_start": 1690557482479,
        "execution_millis": 61,
        "deepnote_to_be_reexecuted": false,
        "deepnote_cell_type": "code",
        "id": "wBtbY965Y8zm"
      },
      "source": [
        "## Sample Response\n",
        "# Get dimensions of dataset\n",
        "dim(dat)"
      ],
      "execution_count": null,
      "outputs": []
    },
    {
      "cell_type": "markdown",
      "metadata": {
        "tags": [],
        "cell_id": "23254a6b37d74e868133a55ee4146a02",
        "deepnote_cell_type": "markdown",
        "id": "DQzorCqdY8zm"
      },
      "source": [
        "A good measure to use to predict the weight of a fish could be to use it's total body length. When analyzing variables of interest (`Weight`, `Length3`), it's often helpful to calculate summary statistics. For quantitative variables, we can use the summary command to find the five-number summary (minimum, Q1, median, Q3, maximum) and the average (mean) of the values. The code block shows how we find these summary statistics for the `Weight` variable.\n",
        "\n",
        "**Note:** The `$` sign in R is used to isolate a single variable (`Weight`) from a dataframe (`dat`)."
      ]
    },
    {
      "cell_type": "code",
      "metadata": {
        "cell_id": "f5294f7ccbde4f488f7985e0d6cce137",
        "source_hash": null,
        "execution_start": 1690557482530,
        "execution_millis": 53,
        "deepnote_to_be_reexecuted": false,
        "deepnote_cell_type": "code",
        "id": "EZWxFHo1Y8zm"
      },
      "source": [
        "## Run this code but do not edit it\n",
        "# Find summary statistics for Weight\n",
        "summary(dat$Weight)"
      ],
      "execution_count": null,
      "outputs": []
    },
    {
      "cell_type": "markdown",
      "metadata": {
        "cell_id": "32cf00cff41947d9a602509972b27cf6",
        "deepnote_cell_type": "markdown",
        "id": "j9qKul8wY8zm"
      },
      "source": [
        "**Question 1.3 -** Comment on what these summary statistics reveal about the `Weight` values in our dataset."
      ]
    },
    {
      "cell_type": "markdown",
      "metadata": {
        "cell_id": "b070053f66d84f698007d37acc75896a",
        "deepnote_cell_type": "markdown",
        "id": "81jxsKOiY8zm"
      },
      "source": [
        "**Double-click this cell to type your answer here:**"
      ]
    },
    {
      "cell_type": "markdown",
      "metadata": {
        "cell_id": "26ce874ea5e849c78a167c405c637240",
        "deepnote_cell_type": "markdown",
        "id": "PPL6C8OBY8zm"
      },
      "source": [
        "<div class=\"alert alert-block alert-info\"><b>Sample Response:</b> <li>The minimum weight is 32 grams.</li><li>Q3 is 687.5, meaning 75% of the fish weighed 650 grams or less.</li><li>The maximum weight is 1650 grams.</li><li>The mean is about 50% larger than the median which indicates that the distribution of weights is right-skewed.</li>\n",
        "</div>"
      ]
    },
    {
      "cell_type": "markdown",
      "metadata": {
        "cell_id": "8f93039dd00643fc9867f4f399548fb2",
        "deepnote_cell_type": "markdown",
        "id": "IVmHYEjgY8zm"
      },
      "source": [
        "Now let's examine `Length3`. First we'll look at the summary statstics."
      ]
    },
    {
      "cell_type": "markdown",
      "metadata": {
        "cell_id": "1186f86c0f0344bf8c25f9f58898bddc",
        "deepnote_cell_type": "markdown",
        "id": "6AHmu7d4Y8zm"
      },
      "source": [
        "**Question 1.4 -** Use the `summary` command to find the 5 number summary for the variable `Length3`."
      ]
    },
    {
      "cell_type": "code",
      "metadata": {
        "cell_id": "9728242716524077a112fb4e6264ff17",
        "source_hash": null,
        "execution_start": 1690557482572,
        "execution_millis": 13,
        "deepnote_to_be_reexecuted": false,
        "deepnote_cell_type": "code",
        "id": "NNjf90OZY8zm"
      },
      "source": [
        "## Sample Response\n",
        "# Find summary statistics for Length3\n",
        "summary(dat$Length3)"
      ],
      "execution_count": null,
      "outputs": []
    },
    {
      "cell_type": "markdown",
      "metadata": {
        "cell_id": "e4a57922d24f46098965064b8d3aa501",
        "deepnote_cell_type": "markdown",
        "id": "ndd59fQEY8zm"
      },
      "source": [
        "**Question 1.5 -** Comment on what these summary statistics reveal about the `Length3` values in our dataset."
      ]
    },
    {
      "cell_type": "markdown",
      "metadata": {
        "cell_id": "137d8540a8f44e038632a82311f2c37b",
        "deepnote_cell_type": "markdown",
        "id": "FBRK4gcDY8zm"
      },
      "source": [
        "**Double-click this cell to type your answer here:**"
      ]
    },
    {
      "cell_type": "markdown",
      "metadata": {
        "cell_id": "57bd9b3eb56d458cad22b1ddacee98fc",
        "deepnote_cell_type": "markdown",
        "id": "km_j_knJY8zm"
      },
      "source": [
        "<div class=\"alert alert-block alert-info\"><b>Sample Response:</b> <li>The minimum length is 14.7 cm and the maximum length is 65.80 cm. This could mean that there are significant differences in the lengths for different species of fish.</li><li>Q3 is 40.55, meaning 75% of the fish measured were 40.55 cm or less.</li><li>The mean and the median are relatively close. This could mean that the full body lengths are uniformally distributed.</li></div>"
      ]
    },
    {
      "cell_type": "markdown",
      "metadata": {
        "cell_id": "fac99dde028c417a85ffa1a54a831f85",
        "deepnote_cell_type": "markdown",
        "id": "789hQQDXY8zm"
      },
      "source": [
        "It is also helpful to visualize the distribution of a quantitative variable. This can be useful in determining if the values are normally distributed or skewed (right or left). First we'll take a look at the distribution of the outcome variable `Weight`."
      ]
    },
    {
      "cell_type": "code",
      "metadata": {
        "cell_id": "15d009c1dad64dc3a1250f51aa95fc5b",
        "source_hash": null,
        "execution_start": 1690557482623,
        "execution_millis": 681,
        "deepnote_to_be_reexecuted": false,
        "deepnote_cell_type": "code",
        "id": "4IGC2BoyY8zn"
      },
      "source": [
        "## Run this code but do not edit it\n",
        "# Create histogram for Weight\n",
        "gf_histogram(~Weight, data = dat, fill = 'turquoise', color = 'black')"
      ],
      "execution_count": null,
      "outputs": []
    },
    {
      "cell_type": "markdown",
      "metadata": {
        "cell_id": "87ffd07d8a1f479aaedbcd2ab5770a5f",
        "deepnote_cell_type": "markdown",
        "id": "lrN_aSrAY8zn"
      },
      "source": [
        "As we suspected from the summary statistics, it appears that most of the fish weigh less than 650 grams and that the distribution is right-skewed. Now let's take a look at the distribution of the `Length3` variable."
      ]
    },
    {
      "cell_type": "code",
      "metadata": {
        "cell_id": "14e9161bf3f44a8e8beabe2385a25966",
        "source_hash": null,
        "execution_start": 1690557483117,
        "execution_millis": 1224,
        "deepnote_to_be_reexecuted": false,
        "deepnote_cell_type": "code",
        "id": "5FyIQL3VY8zn"
      },
      "source": [
        "## Run this code but do not edit it\n",
        "# Create histogram for Weight\n",
        "gf_histogram(~Length3, data = dat, fill = 'turquoise', color = 'black')"
      ],
      "execution_count": null,
      "outputs": []
    },
    {
      "cell_type": "markdown",
      "metadata": {
        "cell_id": "8af537e50dc149f9b513ddfbe07cabdc",
        "deepnote_cell_type": "markdown",
        "id": "0KvaL8Q2Y8zn"
      },
      "source": [
        "**Question 1.6 -** Comment on what the histogram reveals about the `Length3` values in our dataset."
      ]
    },
    {
      "cell_type": "markdown",
      "metadata": {
        "cell_id": "ac7e42eb99b64837a49056e31dd508ec",
        "deepnote_cell_type": "markdown",
        "id": "AHWDXZbVY8zn"
      },
      "source": [
        "**Double-click this cell to type your answer here:**"
      ]
    },
    {
      "cell_type": "markdown",
      "metadata": {
        "cell_id": "40cf6acfbe2d4152ab1a6ba1065eabcb",
        "deepnote_cell_type": "markdown",
        "id": "E55CuevxY8zn"
      },
      "source": [
        "<div class=\"alert alert-block alert-info\"><b>Sample Response:</b> <li>The histogram appears to have two peaks - meaning that the lengths have a bi-modal distribution.</li><li>There are a few fish that have full body lengths that are greater than 60 cm.</li><li>Most of the fish have lengths that are between 0 and 30 cm and from 35 to 50 cm.</li></div>"
      ]
    },
    {
      "cell_type": "markdown",
      "metadata": {
        "cell_id": "bdf7b1953e0843d38b6830bbf544d38a",
        "deepnote_cell_type": "markdown",
        "id": "RUzBFUUIY8zn"
      },
      "source": [
        "For categorical data, it doesn't make sense to find means and medians. Instead, it's helpful to look at value counts and proportions. We can use the `table` command to find the counts of the different values for `Species`:"
      ]
    },
    {
      "cell_type": "code",
      "metadata": {
        "cell_id": "70140902b4824f3989b9cf961efe7d38",
        "source_hash": null,
        "execution_start": 1690557484193,
        "execution_millis": 149,
        "deepnote_to_be_reexecuted": false,
        "deepnote_cell_type": "code",
        "id": "jm5lkluhY8zn"
      },
      "source": [
        "## Run this code but do not edit it\n",
        "# Find counts of values for different species of fish\n",
        "species_counts <- table(dat$Species)\n",
        "species_counts"
      ],
      "execution_count": null,
      "outputs": []
    },
    {
      "cell_type": "markdown",
      "metadata": {
        "cell_id": "52658a336ad440d6bbc8b55463e04c7a",
        "deepnote_cell_type": "markdown",
        "id": "zfIL0Fz8Y8zn"
      },
      "source": [
        "To get a better sense of scale, we can turn these raw counts into proportions by dividing them by the total:"
      ]
    },
    {
      "cell_type": "code",
      "metadata": {
        "source_hash": null,
        "execution_start": 1690557484194,
        "execution_millis": 194,
        "deepnote_to_be_reexecuted": false,
        "cell_id": "ed370c26ba0e4a408e60b286472e1de5",
        "deepnote_cell_type": "code",
        "id": "PI5APMYGY8zn"
      },
      "source": [
        "## Run this code but do not edit it\n",
        "# Find the total by summing of all counts in table\n",
        "total <- sum(species_counts)\n",
        "\n",
        "# Find the proportions for species by dividing table by total\n",
        "species_counts / total"
      ],
      "execution_count": null,
      "outputs": []
    },
    {
      "cell_type": "markdown",
      "metadata": {
        "cell_id": "d75c35ca5d174483b07e55589f466497",
        "deepnote_cell_type": "markdown",
        "id": "XihsgY8FY8zn"
      },
      "source": [
        "**Question 1.7 -** Comment on the proportion of species types."
      ]
    },
    {
      "cell_type": "markdown",
      "metadata": {
        "cell_id": "88ab8be57073496f9e3c589560f0524d",
        "deepnote_cell_type": "markdown",
        "id": "3DmtbuSnY8zn"
      },
      "source": [
        "**Double-click this cell to type your answer here:**"
      ]
    },
    {
      "cell_type": "markdown",
      "metadata": {
        "tags": [],
        "cell_id": "526217c596f04b438cb419642ddd6bf6",
        "deepnote_cell_type": "markdown",
        "id": "kvoTlZ7YY8zn"
      },
      "source": [
        "<div class=\"alert alert-block alert-info\"><b>Sample Response:</b><li>The Bream and Perch species make up the majority of fish types in the data set.</li><li>Whitefish and Smelt together only account for about 4% of the fish species in the data set.</li>\n",
        "</div>"
      ]
    },
    {
      "cell_type": "markdown",
      "metadata": {
        "cell_id": "d52e07a58f5a4cb0b70adecc09e5a645",
        "deepnote_cell_type": "markdown",
        "id": "h7QGgmyXY8zn"
      },
      "source": [
        "Finally, to get a sense of how the weights and lengths are distributed across the various species we can create a box plot."
      ]
    },
    {
      "cell_type": "code",
      "metadata": {
        "cell_id": "09b57dce34cc4f909bc6a21410f3d5d4",
        "source_hash": null,
        "execution_start": 1690557484195,
        "execution_millis": 883,
        "deepnote_to_be_reexecuted": false,
        "deepnote_cell_type": "code",
        "id": "oxTREMRUY8zn"
      },
      "source": [
        "## Run this code but do not edit it\n",
        "# Create boxplots for weight for the different species\n",
        "gf_boxplot(Weight ~ Species, data = dat, fill = 'turquoise', color = 'black')"
      ],
      "execution_count": null,
      "outputs": []
    },
    {
      "cell_type": "markdown",
      "metadata": {
        "cell_id": "c6a779efd93e4393a56c106b8b978ea3",
        "deepnote_cell_type": "markdown",
        "id": "T5UvrK6_Y8zn"
      },
      "source": [
        "<div class=\"alert alert-block alert-info\"><b>Instructor Note:</b> By convention, in R's boxplots, outliers are visualized as dots. The edges of the box represent the first and third quartiles, and the line within the box represents the median. If students are unfamiliar with boxplots, we recommend <a href = \"https://www.khanacademy.org/math/cc-sixth-grade-math/cc-6th-data-statistics/cc-6th-box-whisker-plots/v/constructing-a-box-and-whisker-plot\">this video</a> from Khan Academy (quick refresher) or <a href = \"https://skewthescript.org/1-5\">this lesson</a> from Skew The Script (detailed lesson with real-world context).\n",
        "</div>"
      ]
    },
    {
      "cell_type": "markdown",
      "metadata": {
        "cell_id": "f0f9f45ed86e449f9e28d121f3005ad2",
        "deepnote_cell_type": "markdown",
        "id": "uIH7arqIY8zr"
      },
      "source": [
        "In this case, we're using `Species` as the **predictor variable** and `Weight` as the **outcome variable**. In other words, we can use the species type of a fish (Bream, Perch, Smelt, etc.) to help predict its weight. That's because weights of different species of fish are not the same. So, knowing the species of a fish can help us better predict its weight.\n",
        "\n",
        "**Note:** This predictor-outcome relationship is coded in R through the syntax `outcome ~ predictor`, as in `gf_boxplot(Weight ~ Species,...)`.\n",
        "\n",
        "We see that weight for Prakki and Roach tend to be a lot lower than the weights of Bream, Perch, Pike and Whitefish. We also notice that a few of the Roach species are outliers. And, the minimum weight for the Parkki, Perch and Roach seem to be the same."
      ]
    },
    {
      "cell_type": "markdown",
      "metadata": {
        "tags": [],
        "cell_id": "b0069d0f65184dbbac30e74f0c724545",
        "deepnote_cell_type": "markdown",
        "id": "81bBP5HNY8zr"
      },
      "source": [
        "### 2.0 - Scatter Plots"
      ]
    },
    {
      "cell_type": "markdown",
      "metadata": {
        "cell_id": "f7601b0940324c0cb543a9679cd687fb",
        "deepnote_cell_type": "markdown",
        "id": "mZXlAJLmY8zr"
      },
      "source": [
        "So, our main **outcome variable** in this analysis will be `Weight`. We're going to use scatterplots to see how strongly different **predictor variables** correlate with weight. In particular, we're to explore how well each of the following variables predicts weight:\n",
        "\n",
        "- `Length3` - Length from the nose to the end of the tail (in cm)\n",
        "- `Height` - Maximal height as % of Length3\n",
        "- `Width` - Maximal width as % of Length3  \n",
        "\n",
        "To begin, let's create a **scatterplot** of `Weight` and the `Length3`. We can use the `gf_point` command to make the graph:"
      ]
    },
    {
      "cell_type": "code",
      "metadata": {
        "tags": [],
        "cell_id": "641e2f4b001547118fce743a4eccb1eb",
        "source_hash": null,
        "output_cleared": false,
        "execution_start": 1690557484869,
        "execution_millis": 770,
        "deepnote_to_be_reexecuted": false,
        "deepnote_cell_type": "code",
        "id": "zwcaonH0Y8zr"
      },
      "source": [
        "## Run this code but do not edit it.\n",
        "# Create scatterplot: Weight ~ Length3\n",
        "gf_point(Weight ~ Length3, data = dat)"
      ],
      "execution_count": null,
      "outputs": []
    },
    {
      "cell_type": "markdown",
      "metadata": {
        "tags": [],
        "cell_id": "d65feabfeb3247daacb11c406c565432",
        "deepnote_cell_type": "markdown",
        "id": "rIWoZLI1Y8zr"
      },
      "source": [
        "**Question 2.1 -** Using your scatterplot, describe the relationship between `Length3` and `Weight`. For instance, are these variables positively or negatively related? How can you tell? Explain."
      ]
    },
    {
      "cell_type": "markdown",
      "metadata": {
        "tags": [],
        "cell_id": "c82d9c548f6e4a1a946c702c1a908477",
        "deepnote_cell_type": "markdown",
        "id": "bdjw0mp5Y8zr"
      },
      "source": [
        "**Double-click this cell to type your answer here:**"
      ]
    },
    {
      "cell_type": "markdown",
      "metadata": {
        "tags": [],
        "cell_id": "e490fd070f3740189c67a831cb92d93a",
        "deepnote_cell_type": "markdown",
        "id": "_BTBGTWOY8zr"
      },
      "source": [
        "<div class=\"alert alert-block alert-info\"><b>Sample Response:</b> <li>Weight and full body length (Length3) are positively related. As the length increases the weight of the fish increases. This makes sense because longer fish are probably bigger and as a result, probably weigh more.</li><li>The scatter plot also appears to be curved.</li><liv>The scatter plaot appears to show multiple positive relationships. There are a cluster of points on the x-axis (Length3) that start close to 0 and go up to 50, and a different cluster of points that start at 35 and go up to 70.</li>\n",
        "</div>"
      ]
    },
    {
      "cell_type": "markdown",
      "metadata": {
        "tags": [],
        "cell_id": "b27b990a08c7460eacaeac02f0db5ae2",
        "deepnote_cell_type": "markdown",
        "id": "evtpRa4aY8zr"
      },
      "source": [
        "### 3.0 - Simple Linear Regression (one predictor)"
      ]
    },
    {
      "cell_type": "markdown",
      "metadata": {
        "tags": [],
        "cell_id": "8955b517080d4cd1aa04138b81bc8cfa",
        "deepnote_cell_type": "markdown",
        "id": "jX_XTPLVY8zr"
      },
      "source": [
        "**Question 3.1 -** Watch <a href=\"https://youtu.be/hvWgu4A0VA4\">this video</a>, which provides an introduction to simple linear regression. Note: This video is adapted from other materials and covers data from a separate context. However, the video provides a good intro to the concepts and models we'll be using in this section of the project."
      ]
    },
    {
      "cell_type": "markdown",
      "metadata": {
        "tags": [],
        "cell_id": "f618141068144fbaa894cb775aac710e",
        "deepnote_cell_type": "markdown",
        "id": "j0xrw9M6Y8zr"
      },
      "source": [
        "<div class=\"alert alert-block alert-info\"><b>Instructor Note:</b> If your students want to cover the discussion question at the end of the video, you can download the handout key or slide deck from the <a href = \"https://skewthescript.org/3-2\">full Skew The Script lesson page</a>, which has useful teaching materials for covering the discussion question. Note: Covering the discussion question is not required for successful completion of this project.\n",
        "</div>"
      ]
    },
    {
      "cell_type": "markdown",
      "metadata": {
        "tags": [],
        "cell_id": "126c5278c3ea4a559d53f32b68fb76fe",
        "deepnote_cell_type": "markdown",
        "id": "TCDXC3BEY8zr"
      },
      "source": [
        "Let's create a linear regression model relating `Length3` (x) and `Weight` (y). To visualize our model, we can graph the line modeled by our equation on top of the scatterplot relating `Length3` to `Weight`. We use the `gf_point` command to produce the scatterplot, the `gf_lm` command to graph our linear model, and a `%>%` symbol to put the elements together on the same graph:"
      ]
    },
    {
      "cell_type": "code",
      "metadata": {
        "cell_id": "554b14a88b6c4de8ba7aaa9892cc7817",
        "source_hash": null,
        "execution_start": 1690557485479,
        "execution_millis": 905,
        "deepnote_to_be_reexecuted": false,
        "deepnote_cell_type": "code",
        "id": "0M_tsNemY8zr"
      },
      "source": [
        "## Run this code but do not edit it\n",
        "# Overlay linear model of default_rate ~ pct_PELL on top of scatterplot\n",
        "gf_point(Weight ~ Length3, data = dat) %>% gf_lm(color = \"red\")"
      ],
      "execution_count": null,
      "outputs": []
    },
    {
      "cell_type": "markdown",
      "metadata": {
        "tags": [],
        "cell_id": "70e49a5fd3de43ba95996d7710252adc",
        "deepnote_cell_type": "markdown",
        "id": "Bblq8sXRY8zs"
      },
      "source": [
        "**Question 3.2 -** Would the slope value of the linear regression model for these data be positive or negative? How can you tell?"
      ]
    },
    {
      "cell_type": "markdown",
      "metadata": {
        "tags": [],
        "cell_id": "2160e83fc94240bd9bb6dab433197671",
        "deepnote_cell_type": "markdown",
        "id": "npuC633bY8zs"
      },
      "source": [
        "**Double-click this cell to type your answer here:**"
      ]
    },
    {
      "cell_type": "markdown",
      "metadata": {
        "tags": [],
        "cell_id": "27245db550be41b78ea55e84babeb2bf",
        "deepnote_cell_type": "markdown",
        "id": "iBbhzlVAY8zs"
      },
      "source": [
        "<div class=\"alert alert-block alert-info\"><b>Sample Response:</b> The slope will be positive. In our scatter plot, as the value of the <code>Length3</code> variable increases, the value of the <code>Weight</code> variable also tends to increase.\n",
        "</div>"
      ]
    },
    {
      "cell_type": "markdown",
      "metadata": {
        "tags": [],
        "cell_id": "13ee5df0d81c493ebbf7651555128f9d",
        "deepnote_cell_type": "markdown",
        "id": "YvzE_xetY8zs"
      },
      "source": [
        "R can help us find the equation that models this linear regression line. We can model a linear trend between a predictor $(x)$ and outcome $(y)$ using this linear regression formula:\n",
        "\n",
        "$$\n",
        "\\hat{y} = \\theta_{0} + \\theta_{1}x\n",
        "$$\n",
        "Where:\n",
        "- $\\hat{y}$ is the predicted $y-$value (predicted outcome value)\n",
        "- $\\theta_{0}$ is the $y-$intercept --> the predicted $y-$value (outcome value) when $x=0$ (the predictor's value is 0)\n",
        "- $\\theta_{1}$ is the slope --> the predicted change in $y$ (outcome) for a 1-unit increase in $x$ (predictor)\n",
        "- $x$ is the $x-$value (predictor value)\n",
        "\n",
        "To fit a linear regression model to a set of data in R, we use the `lm` command. `lm` standars for \"linear model.\" Here, we use `lm` to find the linear regression model relating `Length3` $(x)$ and `Weight` $(y)$."
      ]
    },
    {
      "cell_type": "code",
      "metadata": {
        "tags": [],
        "cell_id": "4b54c494e9d94ecbb95fb3a9de77db6c",
        "source_hash": null,
        "output_cleared": false,
        "execution_start": 1690557486181,
        "execution_millis": 54,
        "deepnote_to_be_reexecuted": false,
        "deepnote_cell_type": "code",
        "id": "A3dxZKMiY8zs"
      },
      "source": [
        "## Run this code but do not edit it\n",
        "# Create and display linear model: Weight ~ Length3\n",
        "length3_model <- lm(Weight ~ Length3, data = dat)\n",
        "length3_model"
      ],
      "execution_count": null,
      "outputs": []
    },
    {
      "cell_type": "markdown",
      "metadata": {
        "tags": [],
        "cell_id": "f8fffa425c6f441987774fa73fd8cbee",
        "deepnote_cell_type": "markdown",
        "id": "wapiiRqoY8zs"
      },
      "source": [
        "The output of the `lm` command is a bit clunky, but here's what it means:\n",
        "- The `(Intercept)` value is the y-intercept ($\\theta_{0}$)\n",
        "- The `Length3` value is the coefficient for the predictor. In other words, it's the slope ($\\theta_{1}$)\n",
        "\n",
        "So, our regression equation can be written as:\n",
        "\n",
        "$$\n",
        "\\hat{y} = -593.72 + 31.17x\n",
        "$$"
      ]
    },
    {
      "cell_type": "markdown",
      "metadata": {
        "tags": [],
        "cell_id": "f649ca410a1b4af382441e579dc241d9",
        "deepnote_cell_type": "markdown",
        "id": "JVgxVL72Y8zs"
      },
      "source": [
        "**Question 3.3 -** Identify the slope value and interpret what it means (in context)."
      ]
    },
    {
      "cell_type": "markdown",
      "metadata": {
        "tags": [],
        "cell_id": "e03c9a58ad934f7289540c9e63d8a8b2",
        "deepnote_cell_type": "markdown",
        "id": "0W8JYzJAY8zs"
      },
      "source": [
        "**Double-click this cell to type your answer here:**"
      ]
    },
    {
      "cell_type": "markdown",
      "metadata": {
        "tags": [],
        "cell_id": "186d9453b0b84ad18cc0f4bcb5c55ba3",
        "deepnote_cell_type": "markdown",
        "id": "y0wTqXOvY8zs"
      },
      "source": [
        "<div class=\"alert alert-block alert-info\"><b>Sample Response:</b> Slope = 31.17. For every 1 cm increase in full body length, our model predicts a 31.17 gram increase in weight.\n",
        "</div>"
      ]
    },
    {
      "cell_type": "markdown",
      "metadata": {
        "tags": [],
        "cell_id": "ce5ed39e6c6248b3b11ae2b57e997640",
        "deepnote_cell_type": "markdown",
        "id": "OFNdh5p-Y8zs"
      },
      "source": [
        "**Question 3.4 -** Use the `gf_point` and `gf_lm` commands to visualize a linear regression model for predicting `Width` (outcome) using `Length1` (predictor)."
      ]
    },
    {
      "cell_type": "code",
      "metadata": {
        "tags": [],
        "cell_id": "f4a23ac2fc2c4fe8b3a45063fa42efac",
        "source_hash": null,
        "output_cleared": false,
        "execution_start": 1690557486187,
        "execution_millis": 885,
        "deepnote_to_be_reexecuted": false,
        "deepnote_cell_type": "code",
        "id": "tZ0hlCPlY8zs"
      },
      "source": [
        "## Sample response\n",
        "# Graph showing model for Weight ~ Width\n",
        "gf_point(Weight ~ Width, data = dat) %>% gf_lm(color = \"red\")"
      ],
      "execution_count": null,
      "outputs": []
    },
    {
      "cell_type": "markdown",
      "metadata": {
        "tags": [],
        "cell_id": "76d8e2044d144da194139c6a786101ee",
        "deepnote_cell_type": "markdown",
        "id": "SIXfeGyQY8zs"
      },
      "source": [
        "**Question 3.5 -** Use the `lm` command to find the linear regression model you visualized above. Store the model in an object called `width_model`."
      ]
    },
    {
      "cell_type": "code",
      "metadata": {
        "tags": [],
        "cell_id": "96ca0b894b064a22864593a3fd11e991",
        "source_hash": null,
        "output_cleared": false,
        "execution_start": 1690557486885,
        "execution_millis": 27,
        "deepnote_to_be_reexecuted": false,
        "deepnote_cell_type": "code",
        "id": "-m87i37AY8zs"
      },
      "source": [
        "## Sample response\n",
        "# Linear model for Weight ~ Width\n",
        "width_model <- lm(Weight ~ Width, data = dat)\n",
        "width_model"
      ],
      "execution_count": null,
      "outputs": []
    },
    {
      "cell_type": "markdown",
      "metadata": {
        "tags": [],
        "cell_id": "477704c5119d446baf18aa5ad78cbb86",
        "deepnote_cell_type": "markdown",
        "id": "fDJDPS_KY8zs"
      },
      "source": [
        "**Question 3.6 -** Indentify the slope value and interpret what it means (in context)."
      ]
    },
    {
      "cell_type": "markdown",
      "metadata": {
        "tags": [],
        "cell_id": "2df9b24bd6304a198b1055809f38cfc4",
        "deepnote_cell_type": "markdown",
        "id": "cP_pyAZ_Y8zs"
      },
      "source": [
        "**Double-click this cell to type your answer here:**"
      ]
    },
    {
      "cell_type": "markdown",
      "metadata": {
        "tags": [],
        "cell_id": "5320261b3dd84302be3ad4d0c9d627b3",
        "deepnote_cell_type": "markdown",
        "id": "TIiip71PY8zt"
      },
      "source": [
        "<div class=\"alert alert-block alert-info\"><b>Sample Response:</b> Slope = 221.6. For every 1 cm increase in width, our model predicts a 221.6 gram increase in the weight of the fish.\n",
        "</div>"
      ]
    },
    {
      "cell_type": "markdown",
      "metadata": {
        "tags": [],
        "cell_id": "1030d61d816241f4b6bff49d03f5652f",
        "deepnote_cell_type": "markdown",
        "id": "rOMFvst1Y8zt"
      },
      "source": [
        "### 4.0 - Analyzing strength $(R^2)$"
      ]
    },
    {
      "cell_type": "markdown",
      "metadata": {
        "tags": [],
        "cell_id": "4a32391cf5fc4cdeab567fa73408de30",
        "deepnote_cell_type": "markdown",
        "id": "vp9ZyMPKY8zt"
      },
      "source": [
        "In addition to the direction of a relationship (positive or negative), we can also look at the **strength** of a relationship. The strength is a measure of the **quality of our model's predictions.** A key metric for analyzing the strength of a model is $R^2$. The following diagram (from <a href = \"https://skewthescript.org/3-3-a\">Skew The Script</a>) shows the $R^2$ values of various linear models:\n",
        "\n",
        "<img src=\"https://skewthescript.org/s/r_squared.PNG\">"
      ]
    },
    {
      "cell_type": "markdown",
      "metadata": {
        "tags": [],
        "cell_id": "fbb6d7c328aa4297b79aeeee9441d544",
        "deepnote_cell_type": "markdown",
        "id": "Q7QN8gSNY8zt"
      },
      "source": [
        "In the \"weak\" correlations, we see that our predictions (the linear model) tend to be far away from the actual data values (the points). If we used a model with weak correlation to predict **new** data values, our predictions would have high error. If we used a model with strong correlation to predict **new** data values, our predictions would have low error.\n",
        "\n",
        "$R^2$ takes values between 0 - 1 (alternatively: $0\\% - 100\\%$). The stronger the model, the closer $R^2$ gets to 1 (or $100\\%$). The weaker the model, the closer $R^2$ gets to 0 (or $0\\%$). An intuitive way to think about it: for the perfectly strong correlations, the model gives 100% perfect predictions. The models explain $100\\%$ of the variation in the data, so $R^2 = 100\\%$. As the correlations get weaker, they start leaving room for error, since the models capture less of the variation in the data. So, the $R^2$ value declines from $100\\%$, approaching $0\\%$ if there's no correlation (model adds no prediction power compared to naive guessing).\n",
        "\n",
        "**Optional Resource:** If you'd like a more thorough explanation of the math behind $R^2$, check out <a href=\"https://youtu.be/bMccdk8EdGo\">this video</a>."
      ]
    },
    {
      "cell_type": "markdown",
      "metadata": {
        "tags": [],
        "cell_id": "d5a19e1c6704433aacc7336dfb6cae4d",
        "deepnote_cell_type": "markdown",
        "id": "0F35ZkdOY8zt"
      },
      "source": [
        "To see the $R^2$ values of our linear regression models, we can use the `summary` command. For example, here we get the `summary` printout of `length3_model` - the modeled we stored that relates `Weight` to `Length3`."
      ]
    },
    {
      "cell_type": "code",
      "metadata": {
        "tags": [],
        "source_hash": null,
        "output_cleared": false,
        "execution_start": 1690557486899,
        "execution_millis": 81,
        "deepnote_to_be_reexecuted": false,
        "cell_id": "0f1f1d5a45e24562afe7dd260b614a0c",
        "deepnote_cell_type": "code",
        "id": "maJbZP-sY8zt"
      },
      "source": [
        "## Run this code but do not edit it\n",
        "# Summarize default_rate ~ grad_rate model\n",
        "summary(length3_model)"
      ],
      "execution_count": null,
      "outputs": []
    },
    {
      "cell_type": "markdown",
      "metadata": {
        "tags": [],
        "cell_id": "cf3110ae77bb4c52881c0068534b57dc",
        "deepnote_cell_type": "markdown",
        "id": "esIEH5jpY8zt"
      },
      "source": [
        "There's a lot going on in this printout. For now, focus at the bottom of the printed information. The `Multiple R-squared` value is the $R^2$ value for the model. In this case, $R^2 = 85.68\\%$. So, we can say that the correlation between full body length and weight is relatively strong. This model would yield relatively strong predictions for weight if used to predict on new full body fish lengths."
      ]
    },
    {
      "cell_type": "markdown",
      "metadata": {
        "tags": [],
        "cell_id": "0e37dd3c39794eab9d3620416f0a8516",
        "deepnote_cell_type": "markdown",
        "id": "W01CoXGPY8zt"
      },
      "source": [
        "**Question 4.1 -** Let's consider a new variable: `Height`. How well does the height of a fish predict its weight? Let's start exploring. Go ahead and create a scatterplot that visualizes the relationship between `Height` (predictor) and `Weight` (outcome). Overlay a linear regression model on the graph."
      ]
    },
    {
      "cell_type": "code",
      "metadata": {
        "tags": [],
        "cell_id": "713b1be4bd4146f0b86aa572583ece0f",
        "source_hash": null,
        "output_cleared": false,
        "execution_start": 1690557486964,
        "execution_millis": 553,
        "deepnote_to_be_reexecuted": false,
        "deepnote_cell_type": "code",
        "id": "5NEvJrGfY8zt"
      },
      "source": [
        "## Sample response\n",
        "# Graph showing model for Weight ~ Height\n",
        "gf_point(Weight ~ Height, data = dat) %>% gf_lm(color = \"red\")"
      ],
      "execution_count": null,
      "outputs": []
    },
    {
      "cell_type": "markdown",
      "metadata": {
        "tags": [],
        "cell_id": "7171a39d3a7d4e049b660ccbf5a0e295",
        "deepnote_cell_type": "markdown",
        "id": "BXBRMwyeY8zt"
      },
      "source": [
        "**Question 4.2 -** Use the `lm` command to find the linear regression model you visualized above. Store the model in an object called `height_model`."
      ]
    },
    {
      "cell_type": "code",
      "metadata": {
        "tags": [],
        "source_hash": null,
        "output_cleared": false,
        "execution_start": 1690557487354,
        "execution_millis": 26,
        "deepnote_to_be_reexecuted": false,
        "cell_id": "1b0ff4ff025041f4975d6236127aa10f",
        "deepnote_cell_type": "code",
        "id": "N66uk7OZY8zt"
      },
      "source": [
        "## Sample response\n",
        "# Linear model for Weight ~ Height\n",
        "height_model <- lm(Weight ~ Height, data = dat)\n",
        "height_model"
      ],
      "execution_count": null,
      "outputs": []
    },
    {
      "cell_type": "markdown",
      "metadata": {
        "tags": [],
        "cell_id": "bb8a0212bbcb453c9bf5b068e234ba8e",
        "deepnote_cell_type": "markdown",
        "id": "dmbkquzKY8zt"
      },
      "source": [
        "**Question 4.3 -** Use the `summary` command to find the $R^2$ value of your linear model."
      ]
    },
    {
      "cell_type": "code",
      "metadata": {
        "tags": [],
        "source_hash": null,
        "output_cleared": false,
        "execution_start": 1690557487412,
        "execution_millis": 35,
        "deepnote_to_be_reexecuted": false,
        "cell_id": "ad8627200a3c4e20b7a2b4eed8b2aea3",
        "deepnote_cell_type": "code",
        "id": "T1mG5XPaY8zt"
      },
      "source": [
        "## Sample response\n",
        "# r_squared for Weight ~ Height\n",
        "summary(height_model)"
      ],
      "execution_count": null,
      "outputs": []
    },
    {
      "cell_type": "markdown",
      "metadata": {
        "tags": [],
        "cell_id": "640f3a7a7e374754a4a831cb48d73826",
        "deepnote_cell_type": "markdown",
        "id": "QlF91325Y8zt"
      },
      "source": [
        "**Question 4.4 -** When attempting to predict the weight of a fish, sceintists will record various measurements. Is this reasonable or is it unecessary? Justify your answers using the $R^2$ values for the `length3_model` and `height_model`."
      ]
    },
    {
      "cell_type": "markdown",
      "metadata": {
        "tags": [],
        "cell_id": "81a1c2330034477e824a2304ff91c12a",
        "deepnote_cell_type": "markdown",
        "id": "dZvU2R3HY8zt"
      },
      "source": [
        "**Double-click this cell to type your answer here:**"
      ]
    },
    {
      "cell_type": "markdown",
      "metadata": {
        "tags": [],
        "cell_id": "87ac903ffa804f2f8f9003be055bcb6b",
        "deepnote_cell_type": "markdown",
        "id": "vjdgeBiZY8zt"
      },
      "source": [
        "<div class=\"alert alert-block alert-info\"><b>Sample Response:</b> The R^2 value is much higher for the <code>length3_model</code> (85.68%) than the <code>height_model</code> (45.63%). So, full body length is a much stronger predictor of weight than height. When scientists want to use a measurement to predict the weight, it seems that full body weight will be better than height.\n",
        "</div>"
      ]
    }
  ],
  "nbformat": 4,
  "nbformat_minor": 0,
  "metadata": {
    "deepnote": {},
    "orig_nbformat": 2,
    "deepnote_notebook_id": "9056d65d970b462eb2e1b8c670723c22",
    "deepnote_execution_queue": [],
    "colab": {
      "provenance": []
    },
    "language_info": {
      "name": "R"
    },
    "kernelspec": {
      "name": "ir",
      "display_name": "R"
    }
  }
}