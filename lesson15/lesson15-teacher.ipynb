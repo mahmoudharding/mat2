{
  "cells": [
    {
      "cell_type": "markdown",
      "metadata": {
        "tags": [],
        "cell_id": "eb15b41f71da458ca5418a3dc40464d9",
        "deepnote_cell_type": "markdown",
        "id": "PQOT3ctJcWEj"
      },
      "source": [
        "## Multiple Linear Regression"
      ]
    },
    {
      "cell_type": "markdown",
      "metadata": {
        "cell_id": "aa5d62f5e70b4094b04fda90130cac6c",
        "deepnote_cell_type": "markdown",
        "id": "he9tZtGDcWEk"
      },
      "source": [
        "<div class=\"alert alert-block alert-info\"><b>Instructor Note:</b> This notebook is intended to introdcue students to multiple linear regression. We'll work with a dataset that contains information about farm raised crabs. The <code>crabs</code> dataset originally comes from Gursewak Singh Sidhu from <a href = \"https://www.kaggle.com/dsv/2834512\" >Kaggle</a>.\n",
        "<br>In this notebook, you will...\n",
        "<li>Fit a multiple regression models </li><li>Interpret the coefficients of multiple regression models </li><li>Compare the strength of different multiple regression models</li></div>"
      ]
    },
    {
      "cell_type": "code",
      "metadata": {
        "tags": [],
        "cell_id": "dee1951290a644e687b9a4bdc34452d9",
        "source_hash": "c414c8a0",
        "output_cleared": false,
        "execution_start": 1690568315621,
        "execution_millis": 10804,
        "deepnote_to_be_reexecuted": false,
        "deepnote_cell_type": "code",
        "id": "FoASd-ATcWEk"
      },
      "source": [
        "## Run this code but do not edit it. Hit Ctrl+Enter to run the code.\n",
        "# This command downloads and installs a useful package of R\n",
        "# commands for constructing visualizations\n",
        "install.packages(\"ggformula\", quiet = TRUE, verbose = FALSE)\n",
        "\n",
        "# This command loads useful packages of R commands into your\n",
        "# notebook for manipulating data and constructing visualizations\n",
        "suppressPackageStartupMessages({\n",
        "    library(dplyr)\n",
        "    library(ggplot2)\n",
        "    library(ggformula)\n",
        "})\n",
        "\n",
        "# This command sets the theme for the visualizations in\n",
        "# this notebook\n",
        "theme_set(\n",
        "  theme_light() +\n",
        "  theme(\n",
        "    panel.background = element_rect(fill = \"white\", colour = \"white\"),\n",
        "    plot.background = element_blank(),\n",
        "    axis.line = element_line(color = \"black\")\n",
        "  )\n",
        ")"
      ],
      "execution_count": null,
      "outputs": []
    },
    {
      "cell_type": "markdown",
      "metadata": {
        "tags": [],
        "cell_id": "fb388cdc87324dcda75418d3ffd9c49f",
        "deepnote_cell_type": "markdown",
        "id": "8jNcJmAUcWEk"
      },
      "source": [
        "#### The Dataset (`crabs.csv`)\n",
        "In this notebook, we'll be using the `crabs.csv` file, which includes data about different physical attributes measured from crabs found in Boston area.\n",
        "\n",
        "Crab is very tasty and many countries of the world import huge amount of crabs for consumption every year. The main benefits of crab farming are, labor cost is very low, production cost is comparatively lower and they grow very fast. For a commercial crab farmer knowing the right age of the crab helps them decide if and when to harvest it. Beyond a certain age, there is negligible growth in crab's physical characteristics and hence, it is important to time the harvesting to reduce cost and increase profit.\n",
        "\n",
        "##### Variables\n",
        "- `Sex` --> categorical | Male, Female, Indeterminate\n",
        "- `Length` --> quantitative | Length of the Crab (in Feet)\n",
        "- `Diameter` --> quantitative | Diameter of the Crab (in Feet)\n",
        "- `Height` --> quantitative | Height of the Crab (in Feet)\n",
        "- `Weight` --> quantitative | Weight of the Crab (in ounces)\n",
        "- `Shucked.Weight` --> quantitative | Weight without the shell (in ounces)\n",
        "- `Viscera.Weight` --> quantitative | Weight that wraps around your abdominal organs deep inside body (in ounces)\n",
        "- `Shell.Weight` --> quantitative | Weight of the Shell (in ounces)\n",
        "- `Age` --> quantitative | Age of the crab (in months)\n",
        "\n",
        "##### Detailed description and notes can be found <a href=\"https://www.kaggle.com/dsv/2834512\">here</a>."
      ]
    },
    {
      "cell_type": "markdown",
      "metadata": {
        "tags": [],
        "cell_id": "de85c166c8da4ce9b6b6da88cf9db859",
        "deepnote_cell_type": "markdown",
        "id": "umNE6lBXcWEk"
      },
      "source": [
        "### 1.0 - Exploratory Data Analysis"
      ]
    },
    {
      "cell_type": "markdown",
      "metadata": {
        "tags": [],
        "cell_id": "29b3174b5f1048b6aea72d0f6a90eb81",
        "deepnote_cell_type": "markdown",
        "id": "cNnAfUxTcWEk"
      },
      "source": [
        "To begin, let's download our data. We'll download the `crabs.csv` file and store it in an R dataframe called `dat`."
      ]
    },
    {
      "cell_type": "code",
      "metadata": {
        "tags": [],
        "source_hash": "9c7e34e5",
        "output_cleared": false,
        "execution_start": 1690568326480,
        "execution_millis": 65,
        "deepnote_to_be_reexecuted": false,
        "cell_id": "1b8942ca5c6e412a9f3198c525650d3c",
        "deepnote_cell_type": "code",
        "id": "sSZx2AlkcWEk"
      },
      "source": [
        "## Run this code but do not edit it. Hit Ctrl+Enter to run the code.\n",
        "# This command saves the crabs.csv to a dataframe\n",
        "url <- 'https://raw.githubusercontent.com/mahmoudharding/ma2/main/lesson15/data/crabs.csv'\n",
        "dat <- read.csv(url)"
      ],
      "execution_count": null,
      "outputs": []
    },
    {
      "cell_type": "markdown",
      "metadata": {
        "tags": [],
        "cell_id": "b07e452432594277b9e870f4f89abdfa",
        "deepnote_cell_type": "markdown",
        "id": "TYhuCJTzcWEk"
      },
      "source": [
        "**Question 1.1 -** Use the `head` command to print out the first several rows of the dataset."
      ]
    },
    {
      "cell_type": "code",
      "metadata": {
        "tags": [],
        "cell_id": "b49bc7e4b973467ea908ab906e3d111a",
        "source_hash": "8862fda3",
        "output_cleared": false,
        "execution_start": 1690568326542,
        "execution_millis": 148,
        "deepnote_to_be_reexecuted": false,
        "deepnote_cell_type": "code",
        "id": "8C6_fP3hcWEk"
      },
      "source": [
        "## Sample Response\n",
        "# Print head of dataset\n",
        "head(dat)"
      ],
      "execution_count": null,
      "outputs": []
    },
    {
      "cell_type": "markdown",
      "metadata": {
        "tags": [],
        "cell_id": "785b2259befb4083a6000189f1bab233",
        "deepnote_cell_type": "markdown",
        "id": "oHOufZLfcWEk"
      },
      "source": [
        "**Question 1.2 -** Use the `dim` command to find the number of crabs (rows) and number of variables (columns) in our data set."
      ]
    },
    {
      "cell_type": "code",
      "metadata": {
        "tags": [],
        "cell_id": "eacde884b41e432cb8d1d8251bb5f440",
        "source_hash": "66953823",
        "output_cleared": false,
        "execution_start": 1690568326631,
        "execution_millis": 40,
        "deepnote_to_be_reexecuted": false,
        "deepnote_cell_type": "code",
        "id": "qo54v-M8cWEk"
      },
      "source": [
        "## Sample Response\n",
        "# Get dimensions of dataset\n",
        "dim(dat)"
      ],
      "execution_count": null,
      "outputs": []
    },
    {
      "cell_type": "markdown",
      "metadata": {
        "tags": [],
        "cell_id": "b023738d4936419a8da29561446b27d6",
        "deepnote_cell_type": "markdown",
        "id": "UxO0wCAXcWEk"
      },
      "source": [
        "A good measure to use to predict the age of a crab could be to use it's total weight (including the shell). When analyzing variables of interest (`Weight`, `Age`), it's often helpful to calculate summary statistics. For quantitative variables, we can use the summary command to find the five-number summary (minimum, Q1, median, Q3, maximum) and the average (mean) of the values. The code block shows how we find these summary statistics for the `Weight` variable.\n",
        "\n",
        "**Note:** The `$` sign in R is used to isolate a single variable (`Weight`) from a dataframe (`dat`)."
      ]
    },
    {
      "cell_type": "code",
      "metadata": {
        "cell_id": "f58c932a12f041588818fec2d39b1007",
        "source_hash": "8a16220a",
        "execution_start": 1690568326703,
        "execution_millis": 12,
        "deepnote_to_be_reexecuted": false,
        "deepnote_cell_type": "code",
        "id": "azV5WtHIcWEl"
      },
      "source": [
        "## Run this code but do not edit it\n",
        "# Find summary statistics for Weight\n",
        "summary(dat$Weight)"
      ],
      "execution_count": null,
      "outputs": []
    },
    {
      "cell_type": "markdown",
      "metadata": {
        "cell_id": "ec2407b08df343ab9ac288c55a21601c",
        "deepnote_cell_type": "markdown",
        "id": "ybEFKAwbcWEl"
      },
      "source": [
        "**Question 1.3 -** Comment on what these summary statistics reveal about the `Weight` values in our dataset."
      ]
    },
    {
      "cell_type": "markdown",
      "metadata": {
        "cell_id": "5d793bb3c1f043ccbb3a85353b0edad7",
        "deepnote_cell_type": "markdown",
        "id": "PLlzQO2ZcWEl"
      },
      "source": [
        "**Double-click this cell to type your answer here:**"
      ]
    },
    {
      "cell_type": "markdown",
      "metadata": {
        "cell_id": "59d7c9abe9b94356a1fe1f8342196521",
        "deepnote_cell_type": "markdown",
        "id": "wJBbSH-DcWEl"
      },
      "source": [
        "<div class=\"alert alert-block alert-info\"><b>Sample Response:</b> <li>The minimum weight is 0.0567 oz.</li><li>Q3 is 32.7862, meaning 75% of the crabs weighed 32.7862 ounces or less.</li><li>The maximum weight is 80.1015 oz.</li><li>The mean and the median are very close which may indicate that the distribution of weights is symmetrical.</li></div>"
      ]
    },
    {
      "cell_type": "markdown",
      "metadata": {
        "cell_id": "14a6c84f747745299e45d90e07a129c2",
        "deepnote_cell_type": "markdown",
        "id": "hiSkCbYDcWEl"
      },
      "source": [
        "Now let's examine `Length`. First we'll look at the summary statstics."
      ]
    },
    {
      "cell_type": "markdown",
      "metadata": {
        "cell_id": "870626678eb14c278f1117ed1a26f61e",
        "deepnote_cell_type": "markdown",
        "id": "jle5YiLfcWEl"
      },
      "source": [
        "**Question 1.4 -** Use the `summary` command to find the 5 number summary for the variable `Length`."
      ]
    },
    {
      "cell_type": "code",
      "metadata": {
        "cell_id": "557904d38d5e468f8e246cdd5d0dca1b",
        "source_hash": "b63200b2",
        "execution_start": 1690568326704,
        "execution_millis": 54,
        "deepnote_to_be_reexecuted": false,
        "deepnote_cell_type": "code",
        "id": "WtDnFGdDcWEl"
      },
      "source": [
        "## Sample Response\n",
        "# Find summary statistics for Length\n",
        "summary(dat$Length)"
      ],
      "execution_count": null,
      "outputs": []
    },
    {
      "cell_type": "markdown",
      "metadata": {
        "cell_id": "004715da22044709aff143fc87deeb96",
        "deepnote_cell_type": "markdown",
        "id": "d43w5cSycWEl"
      },
      "source": [
        "**Question 1.5 -** Comment on what these summary statistics reveal about the `Length` values in our dataset."
      ]
    },
    {
      "cell_type": "markdown",
      "metadata": {
        "cell_id": "79493b48e36d43388a3832786776d296",
        "deepnote_cell_type": "markdown",
        "id": "mlTRDUpHcWEl"
      },
      "source": [
        "**Double-click this cell to type your answer here:**"
      ]
    },
    {
      "cell_type": "markdown",
      "metadata": {
        "cell_id": "f7d80f02722e4135baecb03c23026a74",
        "deepnote_cell_type": "markdown",
        "id": "fSU-VIbfcWEl"
      },
      "source": [
        "<div class=\"alert alert-block alert-info\"><b>Sample Response:</b> <li>The minimum length is 0.1875 feet and the maximum length is 2.0375 feet.</li><li>Q3 is 1.5375, meaning 75% of the crabs measured were 1.5375 feet or less.</li><li>The mean and the median are exremely close which may indicate that the distribution of the lengths is symmetrical.</li></div>"
      ]
    },
    {
      "cell_type": "markdown",
      "metadata": {
        "cell_id": "cf33914edbd347369124039783c9b00e",
        "deepnote_cell_type": "markdown",
        "id": "KaAAGfSvcWEl"
      },
      "source": [
        "It is also helpful to visualize the distribution of a quantitative variable. This can be useful in determining if the values are normally distributed or skewed (right or left). First we'll take a look at the distribution of the outcome variable `Weight`."
      ]
    },
    {
      "cell_type": "code",
      "metadata": {
        "cell_id": "62829b2458be46b9b6139a5ed699caa5",
        "source_hash": "bb9970bb",
        "execution_start": 1690568326760,
        "execution_millis": 757,
        "deepnote_to_be_reexecuted": false,
        "deepnote_cell_type": "code",
        "id": "w2MWuOEOcWEl"
      },
      "source": [
        "## Run this code but do not edit it\n",
        "# Create histogram for Weight\n",
        "gf_histogram(~Weight, data = dat, fill = 'turquoise', color = 'black')"
      ],
      "execution_count": null,
      "outputs": []
    },
    {
      "cell_type": "markdown",
      "metadata": {
        "cell_id": "7f638a17a69b4ab8a06e2c39ec64524e",
        "deepnote_cell_type": "markdown",
        "id": "1ycK7pzkcWEl"
      },
      "source": [
        "As we suspected from the summary statistics, it appears that most of the crabs weigh less than 32 ounces. The distribution appears to have a small tail to the right, but overall it looks relatively symmetrical. Now let's take a look at the distribution of the `Length` variable."
      ]
    },
    {
      "cell_type": "code",
      "metadata": {
        "source_hash": "3ef98509",
        "execution_start": 1690568327409,
        "execution_millis": 876,
        "deepnote_to_be_reexecuted": false,
        "cell_id": "0a7090e462734a26979aa81147fb3ead",
        "deepnote_cell_type": "code",
        "id": "v1B0yW7XcWEl"
      },
      "source": [
        "## Run this code but do not edit it\n",
        "# Create histogram for Length\n",
        "gf_histogram(~Length, data = dat, fill = 'turquoise', color = 'black')"
      ],
      "execution_count": null,
      "outputs": []
    },
    {
      "cell_type": "markdown",
      "metadata": {
        "cell_id": "4f65d23bf7724a9d88398ef402df5f00",
        "deepnote_cell_type": "markdown",
        "id": "4ejxGeq8cWEl"
      },
      "source": [
        "**Question 1.6 -** Comment on what the histogram reveals about the `Length` values in our dataset."
      ]
    },
    {
      "cell_type": "markdown",
      "metadata": {
        "cell_id": "95256fd6f5d34c87b03387f0f1924bdb",
        "deepnote_cell_type": "markdown",
        "id": "i5EfQ9KwcWEl"
      },
      "source": [
        "**Double-click this cell to type your answer here:**"
      ]
    },
    {
      "cell_type": "markdown",
      "metadata": {
        "cell_id": "ca47d774c5d04c7b8f861b12fd453f71",
        "deepnote_cell_type": "markdown",
        "id": "Lp0kuNlkcWEl"
      },
      "source": [
        "<div class=\"alert alert-block alert-info\"><b>Sample Response:</b> <li>There are a few crabs that have a length that is less than 0.5 feet.</li><li>Most of the crabs have a length that is greater than 1.2 feet</li><li>The distribution appears to have a tail to the left, but overall is relatively symmetrical.</li></div>"
      ]
    },
    {
      "cell_type": "markdown",
      "metadata": {
        "cell_id": "6ba4a21a37874c13aa8e4485c1c50a0f",
        "deepnote_cell_type": "markdown",
        "id": "VTrGY_qscWEl"
      },
      "source": [
        "For categorical data, it doesn't make sense to find means and medians. Instead, it's helpful to look at value counts and proportions. We can use the `table` command to find the counts of the different values for `Sex`:"
      ]
    },
    {
      "cell_type": "code",
      "metadata": {
        "cell_id": "651c6c9a74f84eeca73a37192e64cd84",
        "source_hash": "4ccadcc1",
        "execution_start": 1690568328022,
        "execution_millis": 40,
        "deepnote_to_be_reexecuted": false,
        "deepnote_cell_type": "code",
        "id": "4mWy1DfmcWEl"
      },
      "source": [
        "## Run this code but do not edit it\n",
        "# Find counts of values for different sexes of crabs\n",
        "sex_counts <- table(dat$Sex)\n",
        "sex_counts"
      ],
      "execution_count": null,
      "outputs": []
    },
    {
      "cell_type": "markdown",
      "metadata": {
        "cell_id": "2c81c8f1b65448dd90340f8ee89efd59",
        "deepnote_cell_type": "markdown",
        "id": "7da0hudAcWEl"
      },
      "source": [
        "To get a better sense of scale, we can turn these raw counts into proportions by dividing them by the total:"
      ]
    },
    {
      "cell_type": "code",
      "metadata": {
        "source_hash": "c79168c1",
        "execution_start": 1690568328047,
        "execution_millis": 37,
        "deepnote_to_be_reexecuted": false,
        "cell_id": "47d942e4bf1843df9c9f19a9e34122d2",
        "deepnote_cell_type": "code",
        "id": "DJem-h2ccWEl"
      },
      "source": [
        "## Run this code but do not edit it\n",
        "# Find the total by summing of all counts in table\n",
        "total <- sum(sex_counts)\n",
        "\n",
        "# Find the proportions for time by dividing table by total\n",
        "sex_counts / total"
      ],
      "execution_count": null,
      "outputs": []
    },
    {
      "cell_type": "markdown",
      "metadata": {
        "cell_id": "fbc31be0346b41cfbd7621c75c644d72",
        "deepnote_cell_type": "markdown",
        "id": "JWURSZodcWEl"
      },
      "source": [
        "**Question 1.7 -** Comment on the proportion of sex."
      ]
    },
    {
      "cell_type": "markdown",
      "metadata": {
        "cell_id": "27170a77e87448218b65fbeaef4b689f",
        "deepnote_cell_type": "markdown",
        "id": "5z7yPrxMcWEm"
      },
      "source": [
        "**Double-click this cell to type your answer here:**"
      ]
    },
    {
      "cell_type": "markdown",
      "metadata": {
        "tags": [],
        "cell_id": "d5d9a92b11e647e7b43c594d6fc4efcb",
        "deepnote_cell_type": "markdown",
        "id": "bvBiDbq-cWEm"
      },
      "source": [
        "<div class=\"alert alert-block alert-info\"><b>Sample Response:</b><li>There is an almost even proportion of male, female and indeterminate sex crabs.</li><li>There is a slightly higher proportion of male crabs.</li></div>"
      ]
    },
    {
      "cell_type": "markdown",
      "metadata": {
        "cell_id": "ab9899ae484747a98f7405931d7fd427",
        "deepnote_cell_type": "markdown",
        "id": "B_qQzfjUcWEm"
      },
      "source": [
        "Finally, to get a sense of how the weights and lengths are distributed across the various sexes we can create a box plot."
      ]
    },
    {
      "cell_type": "code",
      "metadata": {
        "source_hash": "ddc8fc6d",
        "execution_start": 1690568328075,
        "execution_millis": 853,
        "deepnote_to_be_reexecuted": false,
        "cell_id": "47541a77a8284ea792b1bb9c71705eec",
        "deepnote_cell_type": "code",
        "id": "Pxdy3MAxcWEm"
      },
      "source": [
        "## Run this code but do not edit it\n",
        "# Create boxplots for weight for the different sexes\n",
        "gf_boxplot(Weight ~ Sex, data = dat, fill = 'turquoise', color = 'black')"
      ],
      "execution_count": null,
      "outputs": []
    },
    {
      "cell_type": "markdown",
      "metadata": {
        "cell_id": "7173b68898504a3ba904abc4c544dad7",
        "deepnote_cell_type": "markdown",
        "id": "X8AEjDRVcWEm"
      },
      "source": [
        "<div class=\"alert alert-block alert-info\"><b>Instructor Note:</b> By convention, in R's boxplots, outliers are visualized as dots. The edges of the box represent the first and third quartiles, and the line within the box represents the median. If students are unfamiliar with boxplots, we recommend <a href = \"https://www.khanacademy.org/math/cc-sixth-grade-math/cc-6th-data-statistics/cc-6th-box-whisker-plots/v/constructing-a-box-and-whisker-plot\">this video</a> from Khan Academy (quick refresher) or <a href = \"https://skewthescript.org/1-5\">this lesson</a> from Skew The Script (detailed lesson with real-world context).\n",
        "</div>"
      ]
    },
    {
      "cell_type": "markdown",
      "metadata": {
        "cell_id": "8b2f45ed89bc4e0889dfce1c689dbb7f",
        "deepnote_cell_type": "markdown",
        "id": "1QUV0QhNcWEm"
      },
      "source": [
        "In this case, we're using `Sex` as the **predictor variable** and `Weight` as the **outcome variable**. In other words, we can use the sex of a crab (Male, Female, Indeterminate) to help predict its weight. That's because weights of different sexes of crabs are not the same. So, knowing the sex of a crab can help us better predict its weight.\n",
        "\n",
        "**Note:** This predictor-outcome relationship is coded in R through the syntax `outcome ~ predictor`, as in `gf_boxplot(Weight ~ Sex,...)`.\n",
        "\n",
        "We see that weight for male and female seem to have a similar distribution. The median weight for female crabs is slightly higher than male crabs. The minimum weight for the male crabs appears lower than female crabs. The crabs whose sex is indeterminate, have weights that are lower than the male and female crabs. We also notice that amongst all sexes there are a number of outliers."
      ]
    },
    {
      "cell_type": "markdown",
      "metadata": {
        "tags": [],
        "cell_id": "d027c8bd22d443e792005343e7348c03",
        "deepnote_cell_type": "markdown",
        "id": "080te7D-cWEm"
      },
      "source": [
        "### 2.0 - Scatter Plots"
      ]
    },
    {
      "cell_type": "markdown",
      "metadata": {
        "cell_id": "7655d8193138421fb68d8a245acc8a73",
        "deepnote_cell_type": "markdown",
        "id": "209sHDdBcWEm"
      },
      "source": [
        "So, our main **outcome variable** in this analysis will be `Age`. We're going to use scatterplots to see how strongly different **predictor variables** correlate with weight. In particular, we're to explore how well each of the following variables predicts weight:\n",
        "\n",
        "- `Weight`\n",
        "- `Length`\n",
        "- `Height`\n",
        "- `Diameter`\n",
        "\n",
        "To begin, let's create a **scatterplot** of `Age` and the `Length`. We can use the `gf_point` command to make the graph:"
      ]
    },
    {
      "cell_type": "code",
      "metadata": {
        "tags": [],
        "source_hash": "17768654",
        "output_cleared": false,
        "execution_start": 1690568347057,
        "execution_millis": 1900,
        "deepnote_to_be_reexecuted": false,
        "cell_id": "caba6f58a4d24e16987c012cdaa7a1cd",
        "deepnote_cell_type": "code",
        "id": "oJnj5m0scWEm"
      },
      "source": [
        "## Run this code but do not edit it.\n",
        "# create scatterplot: Age ~ Weight\n",
        "gf_point(Age ~ Length, data = dat)"
      ],
      "execution_count": null,
      "outputs": []
    },
    {
      "cell_type": "markdown",
      "metadata": {
        "tags": [],
        "cell_id": "c116f71bcc344d4593ae699ccadd866a",
        "deepnote_cell_type": "markdown",
        "id": "D8VXTszVcWEm"
      },
      "source": [
        "**Question 2.1 -** Using your scatterplot, describe the relationship between `Age` and `Length`. For instance, are these variables positively or negatively related? How can you tell? Explain."
      ]
    },
    {
      "cell_type": "markdown",
      "metadata": {
        "tags": [],
        "cell_id": "0d184ca2ba1b45a68f540b8bdecd216b",
        "deepnote_cell_type": "markdown",
        "id": "2zuCtEeIcWEm"
      },
      "source": [
        "**Double-click this cell to type your answer here:**"
      ]
    },
    {
      "cell_type": "markdown",
      "metadata": {
        "tags": [],
        "cell_id": "daba6a5cc46d48aeb1c5c58740cea0db",
        "deepnote_cell_type": "markdown",
        "id": "9vOKfNuBcWEm"
      },
      "source": [
        "<div class=\"alert alert-block alert-info\"><b>Sample Response:</b> Age and length are positively related. As the length increases the age of the crab increases. This makes sense because longer crabs are probably older. We also see that for a given age there are multiple observations that have different values for length (notice the horizontal lines of points in the scatterplot)\n",
        "</div>"
      ]
    },
    {
      "cell_type": "markdown",
      "metadata": {
        "tags": [],
        "cell_id": "bedcb8764be04d00858d3218dd7efd7b",
        "deepnote_cell_type": "markdown",
        "id": "cHYeWzZpcWEm"
      },
      "source": [
        "### 3.0 - Simple Linear Regression (one predictor)"
      ]
    },
    {
      "cell_type": "markdown",
      "metadata": {
        "tags": [],
        "cell_id": "b5982e5076db4b0b8bc2fffd61820b8a",
        "deepnote_cell_type": "markdown",
        "id": "6wvHRrl7cWEm"
      },
      "source": [
        "**3.1 -** Watch <a href=\"https://youtu.be/hvWgu4A0VA4\">this video</a>, which provides an introduction to simple linear regression.\n",
        "\n",
        "**Note:** This video is adapted from other materials and covers data from a separate context. However, the video provides a good intro to the concepts and models we'll be using in this section of the project."
      ]
    },
    {
      "cell_type": "markdown",
      "metadata": {
        "tags": [],
        "cell_id": "6676f68517d247d1b1983d8636fc9774",
        "deepnote_cell_type": "markdown",
        "id": "h5hKFRKicWEn"
      },
      "source": [
        "<div class=\"alert alert-block alert-info\"><b>Instructor Note:</b> If your students want to cover the discussion question at the end of the video, you can download the handout key or slide deck from the <a href = \"https://skewthescript.org/3-2\">full Skew The Script lesson page</a>, which has useful teaching materials for covering the discussion question. Note: Covering the discussion question is not required for successful completion of this project.\n",
        "</div>"
      ]
    },
    {
      "cell_type": "markdown",
      "metadata": {
        "tags": [],
        "cell_id": "39525bf0041049238a8d4137524de454",
        "deepnote_cell_type": "markdown",
        "id": "sHY42eYVcWEn"
      },
      "source": [
        "Let's create a linear regression model relating `Weight` $(x)$ and `Age` $(y)$. To visualize our model, we can graph the line modeled by our equation on top of the scatterplot relating `Weight` to `Age`. We use the `gf_point` command to produce the scatterplot, the `gf_lm` command to graph our linear model, and a `%>%` symbol to put the elements together on the same graph:"
      ]
    },
    {
      "cell_type": "code",
      "metadata": {
        "source_hash": "b5faf0d",
        "execution_start": 1690568330453,
        "execution_millis": 2096,
        "deepnote_to_be_reexecuted": false,
        "cell_id": "32d47843040240fb92503c0e3ad66ac5",
        "deepnote_cell_type": "code",
        "id": "te95tANhcWEn"
      },
      "source": [
        "## Run this code but do not edit it\n",
        "# Overlay linear model of Age ~ Weight on top of scatterplot\n",
        "gf_point(Age ~ Weight, data = dat) %>% gf_lm(color = \"red\")"
      ],
      "execution_count": null,
      "outputs": []
    },
    {
      "cell_type": "markdown",
      "metadata": {
        "tags": [],
        "cell_id": "8bd99b566c58415f83eb3f1965c13a85",
        "deepnote_cell_type": "markdown",
        "id": "k-DRpN7AcWEn"
      },
      "source": [
        "**Question 3.2 -** Would the slope value of the linear regression model for these data be positive or negative? How can you tell?"
      ]
    },
    {
      "cell_type": "markdown",
      "metadata": {
        "tags": [],
        "cell_id": "25eea52d3d9a482d882f79d93eadbe25",
        "deepnote_cell_type": "markdown",
        "id": "SOkGLuJjcWEn"
      },
      "source": [
        "**Double-click this cell to type your answer here:**"
      ]
    },
    {
      "cell_type": "markdown",
      "metadata": {
        "tags": [],
        "cell_id": "3a4ac8c857594f3e90b5f2fe1af3eb49",
        "deepnote_cell_type": "markdown",
        "id": "VHe8haVScWEn"
      },
      "source": [
        "<div class=\"alert alert-block alert-info\"><b>Sample Response:</b> The slope will be positive. In our scatter plot, as the value of the <code>Weight</code> variable increases, the value of the <code>Age</code> variable also tends to increase.\n",
        "</div>"
      ]
    },
    {
      "cell_type": "markdown",
      "metadata": {
        "tags": [],
        "cell_id": "8fa93ea073c340bbbf2d8061a1ca363a",
        "deepnote_cell_type": "markdown",
        "id": "TPMTwvklcWEn"
      },
      "source": [
        "R can help us find the equation that models this linear regression line. We can model a linear trend between a predictor ($x$) and outcome ($y$) using this linear regression formula:\n",
        "\n",
        "$$\n",
        "\\hat{y} = \\theta_{0} + \\theta_{1}x\n",
        "$$\n",
        "Where:\n",
        "- $\\hat{y}$ is the predicted $y-$value (predicted outcome value)\n",
        "- $\\theta_{0}$ is the $y-$intercept $\\rightarrow$ the predicted $y-$value (outcome value) when $x=0$ (the predictor's value is 0)\n",
        "- $\\theta_{1}$ is the slope $\\rightarrow$ the predicted change in $y$ (outcome) for a 1-unit increase in $x$ (predictor)\n",
        "- $x$ is the $x-$value (predictor value)\n",
        "\n",
        "To fit a linear regression model to a set of data in R, we use the `lm` command. `lm` standars for \"linear model.\" Here, we use `lm` to find the linear regression model relating `Weight` ($x$) and `Age` ($y$)."
      ]
    },
    {
      "cell_type": "code",
      "metadata": {
        "tags": [],
        "source_hash": "16d1a417",
        "output_cleared": false,
        "execution_start": 1690568332286,
        "execution_millis": 77,
        "deepnote_to_be_reexecuted": false,
        "cell_id": "e4259d1c11b84f409004d83f776627d1",
        "deepnote_cell_type": "code",
        "id": "oNgeZsfVcWEn"
      },
      "source": [
        "## Run this code but do not edit it\n",
        "# Create and display linear model: Age ~ Weight\n",
        "weight_model <- lm(Age ~ Weight, data = dat)\n",
        "weight_model"
      ],
      "execution_count": null,
      "outputs": []
    },
    {
      "cell_type": "markdown",
      "metadata": {
        "tags": [],
        "cell_id": "8e6bf77aeb3045f4a4494c76eab03fba",
        "deepnote_cell_type": "markdown",
        "id": "hkszj7_McWEn"
      },
      "source": [
        "The output of the `lm` command is a bit clunky, but here's what it means:\n",
        "- The `(Intercept)` value is the $y-$intercept ($\\theta_{0}$)\n",
        "- The `Weight` value is the coefficient for the predictor. In other words, it's the slope ($\\theta_{1}$)\n",
        "\n",
        "So, our regression equation can be written as:\n",
        "\n",
        "$$\n",
        "\\hat{y} = 7.0104 + 0.1249x\n",
        "$$"
      ]
    },
    {
      "cell_type": "markdown",
      "metadata": {
        "tags": [],
        "cell_id": "d2f4be2eecb64f5b9e9cf93859ab7424",
        "deepnote_cell_type": "markdown",
        "id": "DIXHmji2cWEn"
      },
      "source": [
        "**Question 3.3 -** Identify the slope value and interpret what it means (in context)."
      ]
    },
    {
      "cell_type": "markdown",
      "metadata": {
        "tags": [],
        "cell_id": "fcb123c625c546f2bcfc6296d99acddb",
        "deepnote_cell_type": "markdown",
        "id": "UQ5cjxGYcWEn"
      },
      "source": [
        "**Double-click this cell to type your answer here:**"
      ]
    },
    {
      "cell_type": "markdown",
      "metadata": {
        "tags": [],
        "cell_id": "9f5fbb937d3f4f32bdbfd44bbd47f4c8",
        "deepnote_cell_type": "markdown",
        "id": "eRB_rNvccWEn"
      },
      "source": [
        "<div class=\"alert alert-block alert-info\"><b>Sample Response:</b> Slope = 0.1249, intercept = 7.0104. For every 1 ounce increase in weight, our model predicts a 0.1249 month increase in age.\n",
        "</div>"
      ]
    },
    {
      "cell_type": "markdown",
      "metadata": {
        "tags": [],
        "cell_id": "de6b4c3b25c84bf48434a273048ba126",
        "deepnote_cell_type": "markdown",
        "id": "Cqeb_ZDAcWEn"
      },
      "source": [
        "**Question 3.4 -** Use the `gf_point` and `gf_lm` commands to visualize a linear regression model for predicting `Age` (outcome) using `Height` (predictor)."
      ]
    },
    {
      "cell_type": "code",
      "metadata": {
        "tags": [],
        "source_hash": "70ce5f0",
        "output_cleared": false,
        "execution_start": 1690568332325,
        "execution_millis": 2085,
        "deepnote_to_be_reexecuted": false,
        "cell_id": "12c2cd5da138435a8b6a90404bd6c367",
        "deepnote_cell_type": "code",
        "id": "ezlj3YUDcWEn"
      },
      "source": [
        "## Sample response\n",
        "# Graph showing model for Age ~ Height\n",
        "gf_point(Age ~ Height, data = dat) %>% gf_lm(color = \"red\")"
      ],
      "execution_count": null,
      "outputs": []
    },
    {
      "cell_type": "markdown",
      "metadata": {
        "tags": [],
        "cell_id": "14472c65e50a441ab3c6bf9832199752",
        "deepnote_cell_type": "markdown",
        "id": "j2Iybp9dcWEn"
      },
      "source": [
        "**Question 3.5 -** Using your scatterplot, describe the relationship between `Age` and `Height`. For instance, are these variables positively or negatively related? How can you tell? Explain."
      ]
    },
    {
      "cell_type": "markdown",
      "metadata": {
        "cell_id": "31f9ddb229814bc39ed023ae1108cd6d",
        "deepnote_cell_type": "markdown",
        "id": "B4eVQhyPcWEn"
      },
      "source": [
        "**Double-click this cell to type your answer here:**"
      ]
    },
    {
      "cell_type": "markdown",
      "metadata": {
        "cell_id": "f61f3ba1b9d34ac48e32093aacb159c8",
        "deepnote_cell_type": "markdown",
        "id": "qYTdj6fpcWEn"
      },
      "source": [
        "<div class=\"alert alert-block alert-info\"><b>Sample Response:</b><li>The slope will be positive. In our scatter plot, as the value of the <code>Height</code> variable increases, the value of the <code>Age</code> variable also tends to increase.</li><li> There are two outliers for height and age. The presence of the outliers will have an affect on the value of the slope causing it to decrease (since the two crabs are a lot taller than the average crab).</li>\n",
        "</div>"
      ]
    },
    {
      "cell_type": "markdown",
      "metadata": {
        "cell_id": "27eace98b88d438d99010efefa9b2ffc",
        "deepnote_cell_type": "markdown",
        "id": "BBdAGDYRcWEn"
      },
      "source": [
        "**Question 3.6 -** Use the `lm` command to find the linear regression model you visualized above. Store the model in an object called `height_model`."
      ]
    },
    {
      "cell_type": "code",
      "metadata": {
        "tags": [],
        "source_hash": "84553f20",
        "output_cleared": false,
        "execution_start": 1690568334190,
        "execution_millis": 22,
        "deepnote_to_be_reexecuted": false,
        "cell_id": "f802a01faf19446195ddb1a0860b9e8a",
        "deepnote_cell_type": "code",
        "id": "nJe47mKicWEn"
      },
      "source": [
        "## Sample response\n",
        "# Linear model for Age ~ Height\n",
        "height_model <- lm(Age ~ Height, data = dat)\n",
        "height_model"
      ],
      "execution_count": null,
      "outputs": []
    },
    {
      "cell_type": "markdown",
      "metadata": {
        "tags": [],
        "cell_id": "ed953c1f05f84a46ad1a273c86470125",
        "deepnote_cell_type": "markdown",
        "id": "A6sSHTI6cWEn"
      },
      "source": [
        "**Question 3.7 -** Indentify the slope value and interpret what it means (in context)."
      ]
    },
    {
      "cell_type": "markdown",
      "metadata": {
        "tags": [],
        "cell_id": "28899488634c490e8bbad9843de7e9c6",
        "deepnote_cell_type": "markdown",
        "id": "3-ZrVQgocWEn"
      },
      "source": [
        "**Double-click this cell to type your answer here:**"
      ]
    },
    {
      "cell_type": "markdown",
      "metadata": {
        "tags": [],
        "cell_id": "ee6cb2a4ec874ee8a2ea281958349e3d",
        "deepnote_cell_type": "markdown",
        "id": "9Dd7a0AhcWEn"
      },
      "source": [
        "<div class=\"alert alert-block alert-info\"><b>Sample Response:</b> Slope = 16.936, intercept = 4.038. For every 1 ft increase in height, our model predicts a 16.936 month increase in the age of the crab. Since most of the crabs have a height measure of less than 1 foot this may be hard to apply to our context. We could consider using R to change the units from feet to inchces, then re-fit the model. This may give us a better interpretation for the slope value in the linear regression model.\n",
        "</div>"
      ]
    },
    {
      "cell_type": "markdown",
      "metadata": {
        "tags": [],
        "cell_id": "eebc8449e2694e89a75365d9f2e942cc",
        "deepnote_cell_type": "markdown",
        "id": "XSO7OICscWEn"
      },
      "source": [
        "### 4.0 - Analyzing strength $(R^2)$"
      ]
    },
    {
      "cell_type": "markdown",
      "metadata": {
        "tags": [],
        "cell_id": "a560f6278dc04d34bc5c64ca1c971870",
        "deepnote_cell_type": "markdown",
        "id": "FVfVfJEWcWEo"
      },
      "source": [
        "In addition to the direction of a relationship (positive or negative), we can also look at the **strength** of a relationship. The strength is a measure of the **quality of our model's predictions.** A key metric for analyzing the strength of a model is $R^2$. The following diagram (from <a href = \"https://skewthescript.org/3-3-a\">Skew The Script</a>) shows the $R^2$ values of various linear models:\n",
        "\n",
        "<img src=\"https://skewthescript.org/s/r_squared.PNG\">"
      ]
    },
    {
      "cell_type": "markdown",
      "metadata": {
        "tags": [],
        "cell_id": "d73086b0d9524317b6c9ae0d98f198f4",
        "deepnote_cell_type": "markdown",
        "id": "lirz5aEmcWEo"
      },
      "source": [
        "In the \"weak\" correlations, we see that our predictions (the linear model) tend to be far away from the actual data values (the points). If we used a model with weak correlation to predict **new** data values, our predictions would have high error. If we used a model with strong correlation to predict **new** data values, our predictions would have low error.\n",
        "\n",
        "$R^2$ takes values between 0 - 1 (alternatively: $0\\% - 100\\%$). The stronger the model, the closer $R^2$ gets to 1 (or 100%). The weaker the model, the closer $R^2$ gets to 0 (or $0\\%$). An intuitive way to think about it: for the perfectly strong correlations, the model gives 100% perfect predictions. The models explain $100\\%$ of the variation in the data, so $R^2 = 100\\%$. As the correlations get weaker, they start leaving room for error, since the models capture less of the variation in the data. So, the $R^2$ value declines from 100%, approaching $0\\%$ if there's no correlation (model adds no prediction power compared to naive guessing).\n",
        "\n",
        "**Optional Resource:** If you'd like a more thorough explanation of the math behind $R^2$, check out <a href=\"https://youtu.be/bMccdk8EdGo\">this video</a>."
      ]
    },
    {
      "cell_type": "markdown",
      "metadata": {
        "tags": [],
        "cell_id": "13c957da80f649f59cfb181fcb1d6840",
        "deepnote_cell_type": "markdown",
        "id": "57kz6Mq2cWEo"
      },
      "source": [
        "To see the $R^2$ values of our linear regression models, we can use the `summary` command. For example, here we get the `summary` printout of `height_model` - the modeled we stored that relates `Age` to `Height`."
      ]
    },
    {
      "cell_type": "code",
      "metadata": {
        "tags": [],
        "source_hash": "fb9eea6f",
        "output_cleared": false,
        "execution_start": 1690568906831,
        "execution_millis": 29,
        "deepnote_to_be_reexecuted": false,
        "cell_id": "566d9bdcdf3e47e78fcb49733b60be3d",
        "deepnote_cell_type": "code",
        "id": "cKCvTyjxcWEo"
      },
      "source": [
        "## Run this code but do not edit it\n",
        "# Summarize Age ~ Height model\n",
        "summary(height_model)"
      ],
      "execution_count": null,
      "outputs": []
    },
    {
      "cell_type": "markdown",
      "metadata": {
        "tags": [],
        "cell_id": "daf422d2b74e47d0bb28e22b335d7e58",
        "deepnote_cell_type": "markdown",
        "id": "HrTY7KmwcWEo"
      },
      "source": [
        "There's a lot going on in this printout. For now, focus at the bottom of the printed information. The `Multiple R-squared` value is the $R^2$ value for the model. In this case, $R^2 = 30.47\\%$. So, we can say that the correlation between the age and length is relatively weak. This model would yield relatively weak predictions for age if used to predict on new crab lengths."
      ]
    },
    {
      "cell_type": "markdown",
      "metadata": {
        "cell_id": "ae9168ebf1ef4649af349e3198ce5d6b",
        "deepnote_cell_type": "markdown",
        "id": "1VNREOwvcWEo"
      },
      "source": [
        "It's reasonable to assume that the length could be a better than height as a predictor for age. Additionally, it's may be easier to measure (even estimate for that matter) the length of a crab. Let's examine a model that uses length to predict the age."
      ]
    },
    {
      "cell_type": "code",
      "metadata": {
        "source_hash": "d9343a05",
        "execution_start": 1690569534361,
        "execution_millis": 23,
        "deepnote_to_be_reexecuted": false,
        "cell_id": "a8105642053e414297661c6aeece184f",
        "deepnote_cell_type": "code",
        "id": "dupyX7lVcWEo"
      },
      "source": [
        "## Run this code but do not edit it\n",
        "# Create and display linear model: Age ~ Length\n",
        "length_model <- lm(Age ~ Length, data = dat)\n",
        "length_model"
      ],
      "execution_count": null,
      "outputs": []
    },
    {
      "cell_type": "markdown",
      "metadata": {
        "cell_id": "528cbea3afa94bb6872a0ee2c1fa41ec",
        "deepnote_cell_type": "markdown",
        "id": "dXXDQwdqcWEo"
      },
      "source": [
        "This model has a slope value of 5.95. We can interpret this value to mean that for every 1 feet increase in length, we can expect about a 6 month increase in age. Since the majority of the crabs in the dataset are less than 1 foot, this particular interpretation may not be a useful."
      ]
    },
    {
      "cell_type": "markdown",
      "metadata": {
        "cell_id": "1bda86314f0747cb989dc1a85e3a21d2",
        "deepnote_cell_type": "markdown",
        "id": "uAZ0-fCwcWEo"
      },
      "source": [
        "Let's view the $R^2$ value for this model."
      ]
    },
    {
      "cell_type": "code",
      "metadata": {
        "source_hash": "eb787eb9",
        "execution_start": 1690570000287,
        "execution_millis": 12,
        "deepnote_to_be_reexecuted": false,
        "cell_id": "152fa2b14f8a477284c00ea6ce282a3e",
        "deepnote_cell_type": "code",
        "id": "E6MVgHVCcWEo"
      },
      "source": [
        "## Run this code but do not edit it\n",
        "# Summarize Age ~ Length model\n",
        "summary(length_model)"
      ],
      "execution_count": null,
      "outputs": []
    },
    {
      "cell_type": "markdown",
      "metadata": {
        "cell_id": "213c94aab6ea4965a7e6f05f308f6673",
        "deepnote_cell_type": "markdown",
        "id": "icHI7t7lcWEo"
      },
      "source": [
        "What do you notice? Discuss the summary information from the `length_model` with one of your classmates."
      ]
    },
    {
      "cell_type": "markdown",
      "metadata": {
        "tags": [],
        "cell_id": "7af4f715a11c4f45a8aa46ac45e71687",
        "deepnote_cell_type": "markdown",
        "id": "KaszlnlvcWEo"
      },
      "source": [
        "**Question 4.1 -** Let's consider a new variable: `Diameter`. How well does the diameter of a crab predict its age? Let's start exploring. Go ahead and create a scatterplot that visualizes the relationship between `Diameter` (predictor) and `Age` (outcome). Overlay a linear regression model on the graph."
      ]
    },
    {
      "cell_type": "code",
      "metadata": {
        "tags": [],
        "source_hash": "e60d105d",
        "output_cleared": false,
        "execution_start": 1690569149439,
        "execution_millis": 1196,
        "deepnote_to_be_reexecuted": false,
        "cell_id": "6564a34e074d4ff88b0ed8041c5317f4",
        "deepnote_cell_type": "code",
        "id": "8fhjT3cOcWEo"
      },
      "source": [
        "## Sample response\n",
        "# Graph showing model for Age ~ Diameter\n",
        "gf_point(Age ~ Diameter, data = dat) %>% gf_lm(color = \"red\")"
      ],
      "execution_count": null,
      "outputs": []
    },
    {
      "cell_type": "markdown",
      "metadata": {
        "tags": [],
        "cell_id": "e32d6935386a466db77000411cedfe6c",
        "deepnote_cell_type": "markdown",
        "id": "iblQAX60cWEo"
      },
      "source": [
        "**Question 4.2 -** Use the `lm` command to find the linear regression model you visualized above. Store the model in an object called `diameter_model`."
      ]
    },
    {
      "cell_type": "code",
      "metadata": {
        "tags": [],
        "source_hash": "a53674ef",
        "output_cleared": false,
        "execution_start": 1690568336346,
        "execution_millis": 21,
        "deepnote_to_be_reexecuted": false,
        "cell_id": "8e07547fd24f4a9c86814a6ef4e26566",
        "deepnote_cell_type": "code",
        "id": "y6PyilDHcWEo"
      },
      "source": [
        "## Sample response\n",
        "# Linear model for Age ~ Diameter\n",
        "diameter_model <- lm(Age ~ Diameter, data = dat)\n",
        "diameter_model"
      ],
      "execution_count": null,
      "outputs": []
    },
    {
      "cell_type": "markdown",
      "metadata": {
        "tags": [],
        "cell_id": "ec001cfaa9144299ba54b43f251a2e36",
        "deepnote_cell_type": "markdown",
        "id": "lJP41GS4cWEo"
      },
      "source": [
        "**Question 4.3 -** Use the `summary` command to find the $R^2$ value of your linear model."
      ]
    },
    {
      "cell_type": "code",
      "metadata": {
        "tags": [],
        "cell_id": "875e5e7de75842edacfe50643bfe8b92",
        "source_hash": "6980ee8",
        "output_cleared": false,
        "execution_start": 1690568336347,
        "execution_millis": 6,
        "deepnote_to_be_reexecuted": false,
        "deepnote_cell_type": "code",
        "id": "yzUPLQd2cWEo"
      },
      "source": [
        "## Sample response\n",
        "# r_squared for Age ~ Diameter\n",
        "summary(diameter_model)"
      ],
      "execution_count": null,
      "outputs": []
    },
    {
      "cell_type": "markdown",
      "metadata": {
        "tags": [],
        "cell_id": "78b0306283a54f29869f11ca30f5beec",
        "deepnote_cell_type": "markdown",
        "id": "N24a5JqrcWEo"
      },
      "source": [
        "**Question 4.4 -** When attempting to predict the age of a crab, farmers will record various measurements. Is this reasonable or is it unecessary? Justify your answers using the $R^2$ values for the `length_model` and `diameter_model`."
      ]
    },
    {
      "cell_type": "markdown",
      "metadata": {
        "tags": [],
        "cell_id": "5f1c040560274f1d872465b60016c0ac",
        "deepnote_cell_type": "markdown",
        "id": "FNnKz1OfcWEo"
      },
      "source": [
        "**Double-click this cell to type your answer here:**"
      ]
    },
    {
      "cell_type": "markdown",
      "metadata": {
        "tags": [],
        "cell_id": "d632ce6612bd4ad3b6f059f3b288ea8a",
        "deepnote_cell_type": "markdown",
        "id": "5pn5ClP8cWEo"
      },
      "source": [
        "<div class=\"alert alert-block alert-info\"><b>Sample Response:</b> The R^2 value is only slightly higher for the <code>diameter_model</code> (32.93%) than the <code>length_model</code> (29.03%). It appears that either measure would be sufficient as the vairability captured in each model is roughly the same.\n",
        "</div>"
      ]
    },
    {
      "cell_type": "markdown",
      "metadata": {
        "cell_id": "83420f66c97b4e5a9a38c2832b5cd224",
        "deepnote_cell_type": "markdown",
        "id": "jxDp_qo0cWEo"
      },
      "source": [
        "### 5.0 - Motivating Multiple Regression"
      ]
    },
    {
      "cell_type": "markdown",
      "metadata": {
        "cell_id": "50f28df707554bb9870d5d979a3fe180",
        "deepnote_cell_type": "markdown",
        "id": "XqQjs5v8cWEo"
      },
      "source": [
        "The scatterplots we created had rows of points with the same age for different values of `Length` and `Diamter`. Is there something going on here that we are missing?\n",
        "\n",
        "Below is the scatterplot for `Age` and `Length`, color coded using `Diameter`."
      ]
    },
    {
      "cell_type": "markdown",
      "metadata": {
        "cell_id": "2bafb5d0551140ca86f1b17b29348838",
        "deepnote_cell_type": "markdown",
        "id": "ODUso-rccWEo"
      },
      "source": [
        "<div class=\"alert alert-block alert-info\"><b>Instructor Note:</b> Encoding a continuous quantitative variable using color has limitations. Humans aren't as good at perceiving small differences in color though, so we will interpret variables mapped to color with much lower precision. Therefore, when you map a variable to color, make sure it is a variable where high precision is not very important for correctly intepreting the data.\n",
        "</div>"
      ]
    },
    {
      "cell_type": "code",
      "metadata": {
        "cell_id": "f82c015639e84e9b905cf0a19bdf6be6",
        "source_hash": "677f0fe2",
        "execution_start": 1690568336347,
        "execution_millis": 2766,
        "deepnote_to_be_reexecuted": false,
        "deepnote_cell_type": "code",
        "id": "MAJyMeI5cWEo"
      },
      "source": [
        "## Run this code but do not edit it\n",
        "# Show scatter for Age ~ Length, color by Diameter\n",
        "gf_point(Age ~ Length, color = ~Diameter, data = dat)"
      ],
      "execution_count": null,
      "outputs": []
    },
    {
      "cell_type": "markdown",
      "metadata": {
        "cell_id": "9c8d195c592b41669603249ebfebfefa",
        "deepnote_cell_type": "markdown",
        "id": "dTnDqm51cWEo"
      },
      "source": [
        "**Question 5.1 -** Look at the bottom-left corner of the graph. These are crabs that are not long (length less than about 0.6 cm). Describe the diameters for these crabs."
      ]
    },
    {
      "cell_type": "markdown",
      "metadata": {
        "cell_id": "29856dddaa27491681801f52b21d91e2",
        "deepnote_cell_type": "markdown",
        "id": "ybrMCUadcWEo"
      },
      "source": [
        "**Double-click this cell to type your answer here:**"
      ]
    },
    {
      "cell_type": "markdown",
      "metadata": {
        "cell_id": "ad09c734811b47b7a013478cb419d5fd",
        "deepnote_cell_type": "markdown",
        "id": "xiXNrF_ZcWEp"
      },
      "source": [
        "<div class=\"alert alert-block alert-info\"><b>Sample Response:</b> The crabs that are not as long (length less than about 0.6 cm) are also the crabs whose diameters are not as long (diamerer less than 0.4 cm).\n",
        "</div>"
      ]
    },
    {
      "cell_type": "markdown",
      "metadata": {
        "cell_id": "a8d801da03954cbeade744ef871dcf93",
        "deepnote_cell_type": "markdown",
        "id": "_F4yxyOqcWEp"
      },
      "source": [
        "So far, we have only been working with simple linear regressions: models that use one predictor variable (`Length`) to predict the outcome variables (`Age`). If we'd like to use multiple predictor variables at once in order to model our outcome, we can use a technique called **multiple regression**.\n",
        "\n",
        "For example, imagine we want to use **both** `Length` ($x_{1}$) and `Diameter` ($x_{2}$) to predict `Age` ($y$). We can write a new model with multiple predictors, like this:\n",
        "\n",
        "$$\n",
        "\\hat{y} = \\theta_{0} + \\theta_{1}x_{1} + \\theta_{2}x_{2}\n",
        "$$\n",
        "Where:\n",
        "- $\\hat{y}$ is the predicted `Age`\n",
        "- $x_{1}$ is the `Length`\n",
        "- $x_{2}$ is the `Diameter`\n",
        "\n",
        "This means that...\n",
        "- $\\theta_{1}$ is the slope for `Length` --> the slope between `Age` and `Length`, controlling for all other predictors\n",
        "- $\\theta_{2}$ is the slope for `Diameter` --> the slope between `Age` and `Diameter`, controlling for all other predictors\n",
        "- $\\theta_{0}$ is the y-intercept --> the predicted $y-$value when $x_{1} = 0$ and $x_{2} = 0$ (when `Length` and `Diameter` are both 0)\n",
        "\n",
        "Let's go ahead and fit this model, so we can understand what this all really means. The R code for multiple regression is quite simple. If we want to use multiple predictors within our model (such as `Length` and `Diameter`), we simply include both of them in our `lm` command. See below:"
      ]
    },
    {
      "cell_type": "code",
      "metadata": {
        "cell_id": "9228cb2f486b45d087dc46a5ea5cfe31",
        "source_hash": "b310ddc0",
        "execution_start": 1690568338843,
        "execution_millis": 23,
        "deepnote_to_be_reexecuted": false,
        "deepnote_cell_type": "code",
        "id": "bLwohB1NcWEp"
      },
      "source": [
        "## Run this code but do not edit it\n",
        "# Fit multiple regression: Age ~ Length + Diameter\n",
        "length_diameter_model <- lm(Age ~ Length + Diameter, data = dat)\n",
        "length_diameter_model"
      ],
      "execution_count": null,
      "outputs": []
    },
    {
      "cell_type": "markdown",
      "metadata": {
        "cell_id": "5f059648cf284e85bde87b4cb4a38d56",
        "deepnote_cell_type": "markdown",
        "id": "Qpax_Qb7cWEp"
      },
      "source": [
        "<div class=\"alert alert-block alert-info\"><b>Instructor Note:</b> There's a lot going on in this model. We recommend taking a break to watch <a href=\"https://youtu.be/kFB2Dp_gaWQ\">this video</a>, which provides an overview of multiple regression models and walks through interpreting the values from this model. Once you're done with the video, continue reading below.\n",
        "</div>"
      ]
    },
    {
      "cell_type": "markdown",
      "metadata": {
        "cell_id": "9b8da17bb3ea4e538e8d5354bd4cf742",
        "deepnote_cell_type": "markdown",
        "id": "H9XU6-IpcWEp"
      },
      "source": [
        "As you can see, the values have changed a bit, and an extra slope term has now appeared in our model. We can plug these values into our model like so:\n",
        "\n",
        "$$\n",
        "\\hat{y} = 2.771 + (-4.533)x_{1} + (12.859)x_{2}\n",
        "$$\n",
        "\n",
        "Here's how we can interpret the slopes in our model:\n",
        "- $\\theta_{1} = -4.533$ --> For every 1 cm increase in `Length`, we expect a 4.5 month **decrease** in `Age`, controlling for `Diameter`\n",
        "- $\\theta_{2} = 12.859$ -->  For every 1 cm increase in `Diameter`, we expect a 12.859 month **increase** in `Age`, controlling for `Length`\n",
        "\n",
        "\n",
        "The key is that multiple regression allows you to **control for other predictors**, which helps us **eliminate confounding**. When we can control for diameter - i.e. when comparing crabs with similar diameter - we see that length is now **negatively** related to age. In other words, for crabs with similar diameters, we wouldn't necessarily expect the ones that are longer to be older.\n",
        "\n",
        "So, the age of a crab is, in fact, is not positively associated with its length - as long as we're comparing crabs with similar diameters. Including diameter in our model allows us to see the underlying negative relationship between length and the age of the crab.\n",
        "\n",
        "By contrast, we see that diameter is still positively associated with age (just not as much). The $\\theta_{2}$ value (12.859) shows that, even when comparing crabs with similar lengths, the crabs with larger diameter measures will tend to be older. If we return to our graph from earlier, we can see this trend:"
      ]
    },
    {
      "cell_type": "code",
      "metadata": {
        "cell_id": "821ef2d7654f44a1bbc8478495937f38",
        "source_hash": "df1c2c20",
        "execution_start": 1690568338844,
        "execution_millis": 2723,
        "deepnote_to_be_reexecuted": false,
        "deepnote_cell_type": "code",
        "id": "cCCcohUncWEp"
      },
      "source": [
        "## Run this code but do not edit it\n",
        "# Show scatter for Age ~ Diameter, color by Length\n",
        "gf_point(Age ~ Length, color = ~Diameter, data = dat)"
      ],
      "execution_count": null,
      "outputs": []
    },
    {
      "cell_type": "markdown",
      "metadata": {
        "cell_id": "7748ffbf36ac468daba0f0bd3adb1b71",
        "deepnote_cell_type": "markdown",
        "id": "GsPPfW78cWEp"
      },
      "source": [
        "Our multiple regression model found that, when controlling for diameter, age is negatively associated with length. One way to visually \"control for diameter\" is to only look at crabs with similar diameter measures. For example, only looking at crabs with a diameter of about 1 cm, does length appear to be negatively associated with age?\n",
        "\n",
        "Let's explore.\n",
        "\n",
        "First we will subset our data to find all the crabs that have a diameter measure of 1 cm."
      ]
    },
    {
      "cell_type": "code",
      "metadata": {
        "cell_id": "6f0e1e2aa0944286869ad74d56a981f2",
        "source_hash": "fb274a69",
        "execution_start": 1690568340744,
        "execution_millis": 123,
        "deepnote_to_be_reexecuted": false,
        "deepnote_cell_type": "code",
        "id": "c_7vEHnLcWEp"
      },
      "source": [
        "## Run this code but do not edit it\n",
        "# Subset dat to only diameter measures that are equal to 1 cm\n",
        "diameter_1_dat <- dat %>% subset(Diameter == 1)\n",
        "head(diameter_1_dat)"
      ],
      "execution_count": null,
      "outputs": []
    },
    {
      "cell_type": "markdown",
      "metadata": {
        "cell_id": "9c1540cb79894000a51f3079bfa3229f",
        "deepnote_cell_type": "markdown",
        "id": "RAuMq8MecWEp"
      },
      "source": [
        "**Question 5.2 -** Use the `dim` command to see how many observations we have in our subset dataframe `diameter_1_dat`."
      ]
    },
    {
      "cell_type": "code",
      "metadata": {
        "source_hash": "7c43ae12",
        "execution_start": 1690568340746,
        "execution_millis": 122,
        "deepnote_to_be_reexecuted": false,
        "cell_id": "38f857373af8460795a260ddbea13a1b",
        "deepnote_cell_type": "code",
        "id": "OWeUKitMcWEp"
      },
      "source": [
        "## Display the dimensions of a dataframe\n",
        "# Sample response\n",
        "dim(diameter_1_dat)"
      ],
      "execution_count": null,
      "outputs": []
    },
    {
      "cell_type": "markdown",
      "metadata": {
        "cell_id": "3682a750a49842db99cc70fc03cdb49f",
        "deepnote_cell_type": "markdown",
        "id": "4x1KqOXHcWEp"
      },
      "source": [
        "**Question 5.3 -** Use the `gf_point` command to visualize a linear regression model for predicting `Age` (outcome) using `Length` (predictor) from the `diameter_1_dat` dataframe."
      ]
    },
    {
      "cell_type": "code",
      "metadata": {
        "cell_id": "b35373b624a243b083ca60b9eb114928",
        "source_hash": "4413d855",
        "execution_start": 1690568340747,
        "execution_millis": 488,
        "deepnote_to_be_reexecuted": false,
        "deepnote_cell_type": "code",
        "id": "1Jbmt7cmcWEp"
      },
      "source": [
        "## Sample response\n",
        "# Create scatterplot: Age ~ Length\n",
        "gf_point(Age ~ Length, data = diameter_1_dat)"
      ],
      "execution_count": null,
      "outputs": []
    },
    {
      "cell_type": "markdown",
      "metadata": {
        "cell_id": "314233a6156442aaa6bad1590f0c3a12",
        "deepnote_cell_type": "markdown",
        "id": "Plrx_nkYcWEp"
      },
      "source": [
        "**Question 5.4 -** Only looking at crabs with a diamter of about 1 cm, does length appear to be negatively associated with age? Explain."
      ]
    },
    {
      "cell_type": "markdown",
      "metadata": {
        "cell_id": "2fe4d92418c8428e867269b6bb6bb5ec",
        "deepnote_cell_type": "markdown",
        "id": "npQIcalhcWEp"
      },
      "source": [
        "**Double-click this cell to type your answer here:**"
      ]
    },
    {
      "cell_type": "markdown",
      "metadata": {
        "cell_id": "7be78292d97b4b6a90b3c0e79aeca0f8",
        "deepnote_cell_type": "markdown",
        "id": "Vko8Lfm1cWEp"
      },
      "source": [
        "<div class=\"alert alert-block alert-info\"><b>Sample Response:</b> After controlling for diameter, the age of the crab is negtively associated with the length of the crab. As the length of the crab increases, the age of the crab tends to decrease on average.\n",
        "</div>"
      ]
    },
    {
      "cell_type": "markdown",
      "metadata": {
        "cell_id": "4109b7481bc64ef2bbf04460856c5398",
        "deepnote_cell_type": "markdown",
        "id": "HJqXx3TRcWEp"
      },
      "source": [
        "**Question 5.5 -** Mention other sigifcant features that are noticable in the scatterplot. For example, are there any outliers? If so, how would they affect the slope of the linear regression equation? Explain."
      ]
    },
    {
      "cell_type": "markdown",
      "metadata": {
        "cell_id": "3489f232bd8a4e65becd9a6879cc8625",
        "deepnote_cell_type": "markdown",
        "id": "G2c0lzDvcWEp"
      },
      "source": [
        "**Double-click this cell to type your answer here:**"
      ]
    },
    {
      "cell_type": "markdown",
      "metadata": {
        "cell_id": "0492c8f836604d07b82db62c34a42a04",
        "deepnote_cell_type": "markdown",
        "id": "1ic8czewcWEp"
      },
      "source": [
        "<div class=\"alert alert-block alert-info\"><b>Sample Response:</b> </li><li>There are two outliers in the scatterplot. One crab has a length of about 1.45 cm(the longest crab of diamter 1 cm), but the age of this crab is close to 20 months (3 oldest crab with diameter 1 cm). This could cause the slope of the linear regression equation to be less steep. Another crab has a length of 1.25 (a shorter length compared to all other crabs with a diameter of 1), but is the oldest crab in the dataset.<li>There are a few crabs whose ages are between 15 - 20 months, but they have length measures less than 1.3 cm. This could cause the slope of the linear regression equation to be steeper.</li>\n",
        "</div>"
      ]
    },
    {
      "cell_type": "markdown",
      "metadata": {
        "cell_id": "47fdf0ed55e2480fad6c76e426e24000",
        "deepnote_cell_type": "markdown",
        "id": "ADjm97PecWEp"
      },
      "source": [
        "**Question 5.6 -** Go ahead and create a scatterplot that visualizes the relationship between `Length` (predictor) and `Age` (outcome) for crabs whose diameter measures are 1 cm. Overlay a linear regression model on the graph."
      ]
    },
    {
      "cell_type": "code",
      "metadata": {
        "cell_id": "df6f06339b9e4486ae4fe3cbb8a55546",
        "source_hash": "44720e05",
        "execution_start": 1690568340958,
        "execution_millis": 1113,
        "deepnote_to_be_reexecuted": false,
        "deepnote_cell_type": "code",
        "id": "8R86sPzFcWEp"
      },
      "source": [
        "## Run this code but do not edit it\n",
        "# Overlay linear model of Age ~ Length on top of scatterplot\n",
        "gf_point(Age ~ Length, data = diameter_1_dat) %>% gf_lm(color = \"red\")"
      ],
      "execution_count": null,
      "outputs": []
    },
    {
      "cell_type": "markdown",
      "metadata": {
        "cell_id": "80463488474446c5b1be62760794b9f2",
        "deepnote_cell_type": "markdown",
        "id": "rLksbxnAcWEp"
      },
      "source": [
        "**Question 5.7 -** Use the `lm` command to find the linear regression model you visualized above. Store the model in an object called `diameter_1_length_model`."
      ]
    },
    {
      "cell_type": "code",
      "metadata": {
        "cell_id": "27b1b9040e7c42adba3f008a697697e3",
        "source_hash": "9112ca38",
        "execution_start": 1690568341899,
        "execution_millis": 16,
        "deepnote_to_be_reexecuted": false,
        "deepnote_cell_type": "code",
        "id": "n7JpCgj2cWEp"
      },
      "source": [
        "# Sample response\n",
        "diameter_1_length_model <- lm(Age ~ Length, data = diameter_1_dat)\n",
        "diameter_1_length_model"
      ],
      "execution_count": null,
      "outputs": []
    },
    {
      "cell_type": "markdown",
      "metadata": {
        "cell_id": "73b99764865944e9b3cb1f14d5831e0f",
        "deepnote_cell_type": "markdown",
        "id": "5RPoUXK0cWEp"
      },
      "source": [
        "**Question 5.8 -** Use the `summary` command to find the $R^2$ value of your linear model."
      ]
    },
    {
      "cell_type": "code",
      "metadata": {
        "cell_id": "689f3c640e5843549aee4dd030029809",
        "source_hash": "eb89199f",
        "execution_start": 1690568341901,
        "execution_millis": 46,
        "deepnote_to_be_reexecuted": false,
        "deepnote_cell_type": "code",
        "id": "9BVZICshcWEp"
      },
      "source": [
        "# Samplel response\n",
        "summary(diameter_1_length_model)"
      ],
      "execution_count": null,
      "outputs": []
    },
    {
      "cell_type": "markdown",
      "metadata": {
        "cell_id": "62f9c3bf2ddf4f4284efb5313a3d7cd8",
        "deepnote_cell_type": "markdown",
        "id": "VCGT8mrDcWEp"
      },
      "source": [
        "**Question 5.9 -** What is the $R^2$ values for the `diameter_1_length_model`? Interpret the meaning of the value in context."
      ]
    },
    {
      "cell_type": "markdown",
      "metadata": {
        "cell_id": "cc3a48555c24499ab2fe5621b7e2d37b",
        "deepnote_cell_type": "markdown",
        "id": "HBxzyTXrcWEq"
      },
      "source": [
        "**Double-click this cell to type your answer here:**"
      ]
    },
    {
      "cell_type": "markdown",
      "metadata": {
        "cell_id": "7949aa95b4354cdda764b903c3c29183",
        "deepnote_cell_type": "markdown",
        "id": "Ax-rNTsacWEq"
      },
      "source": [
        "<div class=\"alert alert-block alert-info\"><b>Sample Response:</b> </li><li>The R-squared value is 0.02, which is very low.<li>This means that the length of a crab with a diameter of 1 explains 2% of variability in the age.</li>\n",
        "</div>"
      ]
    },
    {
      "cell_type": "markdown",
      "metadata": {
        "cell_id": "15dd7619b4b949ca8a8a5216c1b77e3b",
        "deepnote_cell_type": "markdown",
        "id": "bYBVVCyTcWEq"
      },
      "source": [
        "###  6.0 - Model Selection"
      ]
    },
    {
      "cell_type": "markdown",
      "metadata": {
        "cell_id": "3190f87ec6264e5a9245fe5def5de8d4",
        "deepnote_cell_type": "markdown",
        "id": "_lxXJXz3cWEq"
      },
      "source": [
        "Model selection is the process of selecting one final model from among a collection of candidate models for dataset. As we have seen, fitting different models is relatively straightforward. All models have some error, therefore, the idea of a perfect or best model is not useful. Instead, we should think about a model that is \"good enough\".\n",
        "\n",
        "The concepts involved in model selection are beyond the scope of this course. For now, let's stick to using R-squared as the measure for judging between models. Run the cell below to compare the R-squared values for each of our models.\n"
      ]
    },
    {
      "cell_type": "code",
      "metadata": {
        "cell_id": "b313f8c194f9484bb29135f232bccc3c",
        "source_hash": "bfe59f51",
        "execution_start": 1690570942628,
        "execution_millis": 33,
        "deepnote_to_be_reexecuted": false,
        "deepnote_cell_type": "code",
        "id": "iKr7C6iycWEq"
      },
      "source": [
        "## Run this code but do not edit it\n",
        "# Print the R-squared value for each model\n",
        "print(paste(\"The r-squared value for the length only model is\", summary(length_model)$r.squared))\n",
        "print(paste(\"The r-squared value for the diameter only model is\", summary(diameter_model)$r.squared))\n",
        "print(paste(\"The r-squared value for the length and diameter model is\", summary(length_diameter_model)$r.squared))"
      ],
      "execution_count": null,
      "outputs": []
    },
    {
      "cell_type": "markdown",
      "metadata": {
        "cell_id": "76caec7a710844c28bfd1bfdec37c8a0",
        "deepnote_cell_type": "markdown",
        "id": "LLBW-KyccWEq"
      },
      "source": [
        "**Question 6.1 -** Compare each model, then choose the model that you think is \"good enough\". Explain your choice based on the R-squared value and the context of what a crab farmer may or may not do on a regular basis."
      ]
    },
    {
      "cell_type": "markdown",
      "metadata": {
        "cell_id": "616df3794c224f9d8ac9ab1550045662",
        "deepnote_cell_type": "markdown",
        "id": "PT0FoYqhcWEq"
      },
      "source": [
        "**Double-click this cell to type your answer here:**"
      ]
    },
    {
      "cell_type": "markdown",
      "metadata": {
        "cell_id": "1b0560b31b7a41339ede13a90f30913b",
        "deepnote_cell_type": "markdown",
        "id": "9pN9cqk7cWEq"
      },
      "source": [
        "<div class=\"alert alert-block alert-info\"><b>Sample Response:</b> </li><li>The R-squared value for the mulitple linear regression model is the highest, so it explains more variation in the age of a crab.<li>Even though the R-squared value for the mulitple linear regression model is the highest, its only slightly higher than the simple linear regression model that uses only diameter. It's probably easier and more efficient to measure only the diameter.</li><li>Since the measure of the length and diameter require more time and effort, and since the measure of the length is negatively associated with age, its measure does not add value for interpreting the age. In fact, you may be tempted to overestimate the age, thinking that longer crabs are older.</li><li>A farmer may be able (over time) to estimate the diameter and guess that larger crabs are older. This is one measurement that quickly gives the farmer a pretty good idea of the age of a crab.</li><li>Based on the information (R-squared and context), I would choose the simple linear regression model using diameter to predict the age</li>\n",
        "</div>"
      ]
    },
    {
      "cell_type": "markdown",
      "metadata": {
        "cell_id": "81f7c3dacc7e42eab54555f6f582af32",
        "deepnote_cell_type": "markdown",
        "id": "99ldriApcWEq"
      },
      "source": []
    },
    {
      "cell_type": "markdown",
      "source": [
        "<a style='text-decoration:none;line-height:16px;display:flex;color:#5B5B62;padding:10px;justify-content:end;' href='https://deepnote.com?utm_source=created-in-deepnote-cell&projectId=8f82fdea-532b-4a4b-9937-108d7206dda5' target=\"_blank\">\n",
        "<img alt='Created in deepnote.com' style='display:inline;max-height:16px;margin:0px;margin-right:7.5px;' src='data:image/svg+xml;base64,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' > </img>\n",
        "Created in <span style='font-weight:600;margin-left:4px;'>Deepnote</span></a>"
      ],
      "metadata": {
        "created_in_deepnote_cell": true,
        "deepnote_cell_type": "markdown",
        "id": "bFfUiLcbcWEq"
      }
    }
  ],
  "nbformat": 4,
  "nbformat_minor": 0,
  "metadata": {
    "deepnote": {},
    "orig_nbformat": 2,
    "deepnote_notebook_id": "f5530475b88e412c845c599c2451f861",
    "deepnote_execution_queue": [],
    "colab": {
      "provenance": []
    },
    "kernelspec": {
      "name": "ir",
      "display_name": "R"
    },
    "language_info": {
      "name": "R"
    }
  }
}