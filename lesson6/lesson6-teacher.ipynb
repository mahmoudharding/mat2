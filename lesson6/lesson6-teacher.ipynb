{
  "cells": [
    {
      "cell_type": "markdown",
      "source": [
        "## The Constant Model\n",
        "\n"
      ],
      "metadata": {
        "cell_id": "e688b2f29a33406e8775b17b8c626766",
        "deepnote_cell_type": "markdown",
        "id": "_Ra-nWt_1x_h"
      }
    },
    {
      "cell_type": "markdown",
      "source": [
        "<div class=\"alert alert-block alert-info\"><b>Instructor Note:</b> This notebook is intended to introduce students the R programming language. We'll explore a dataset that contains information about resteraunt bills and tips. The <code>tips</code> data set was created by Michael Waskom - the creator of the <code>seaborn python</code> data visualisation package. According to the <code>tips</code> dataset documentation, the <code>tips</code> dataset is a data frame with 244 rows and 7 variables which represents some tipping data where one waiter recorded information about each tip he received over a period of a few months working in one restaurant. In all the waiter recorded 244 tips. The data was reported in a collection of case studies for business statistics <a href = \"https://sebastiansauer.github.io/data/tips-help.pdf\">(Bryant & Smith 1995)</a>. The waiter collected several variables: The tip in dollars, the bill in dollars, the sex of the bill payer, whether there were smokers in the party, the day of the week, the time of day and the size of the party.\n",
        "\n",
        "**Note:** The variable tip percent was added for this activity.\n",
        "\n",
        "<br>In this notebook, students will...\n",
        "<li>Learn basic commands in the R programming language </li><li>Calculate summary statistics from a dataframe </li><li>Create various types of data visualizations</li></div>"
      ],
      "metadata": {
        "cell_id": "97b0df640c5f48acb3ea3452495edd97",
        "deepnote_cell_type": "markdown",
        "id": "dq2IDOj21x_i"
      }
    },
    {
      "cell_type": "code",
      "source": [
        "## Run this code but do not edit it. Hit Ctrl+Enter to run the code.\n",
        "# This command downloads and installs a useful package of R\n",
        "# commands for constructing visualizations\n",
        "install.packages(\"ggformula\", quiet = TRUE, verbose = FALSE)\n",
        "\n",
        "# This command loads useful packages of R commands into your\n",
        "# notebook for manipulating data and constructing visualizations\n",
        "suppressPackageStartupMessages({\n",
        "  library(dplyr)\n",
        "  library(ggplot2)\n",
        "  library(ggformula)\n",
        "})\n",
        "\n",
        "# This command sets the theme for the visualizations in\n",
        "# this notebook\n",
        "theme_set(\n",
        "  theme_light() +\n",
        "  theme(\n",
        "    panel.background = element_rect(fill = \"white\", colour = \"white\"),\n",
        "    plot.background = element_blank(),\n",
        "    axis.line = element_line(color = \"black\")\n",
        "  )\n",
        ")"
      ],
      "metadata": {
        "cell_id": "c2a0914880ff44e0a8a06e4d64647956",
        "source_hash": "c414c8a0",
        "execution_start": 1681706462356,
        "execution_millis": 10,
        "deepnote_to_be_reexecuted": false,
        "deepnote_cell_type": "code",
        "id": "mtqfhaU_1x_i"
      },
      "outputs": [],
      "execution_count": null
    },
    {
      "cell_type": "code",
      "source": [
        "### 1.0 - Exploring the dataset"
      ],
      "metadata": {
        "cell_id": "1f05896c1aaf4486bcf32ba920ae5755",
        "source_hash": "d1015dfc",
        "execution_start": 1681912428865,
        "execution_millis": 81,
        "deepnote_to_be_reexecuted": false,
        "deepnote_cell_type": "code",
        "id": "Tp7OyAH91x_i"
      },
      "outputs": [],
      "execution_count": null
    },
    {
      "cell_type": "markdown",
      "source": [
        "<div class=\"alert alert-block alert-info\"><b>Instructor Note:</b> Emphasize for students that the first step in any analysis is to explore the dataframe, familiarize yourself with the key variables, and look for inconsistencies. This section will introduce students to the R commands they need for these tasks.\n",
        "</div>"
      ],
      "metadata": {
        "cell_id": "c59433c2f1a24cf9bd1155d4b7d0a419",
        "deepnote_cell_type": "markdown",
        "id": "ce8V45nE1x_j"
      }
    },
    {
      "cell_type": "markdown",
      "source": [
        "To begin, let's load our data. Our full data set is included in a file named `tips.csv`.\n",
        "\n",
        "The <code>tips</code> data set was created by Michael Waskom - the creator of the <code>seaborn python</code> data visualisation package. According to the <code>tips</code> dataset documentation, the <code>tips</code> dataset is a data frame with 244 rows and 7 variables which represents some tipping data where one waiter recorded information about each tip he received over a period of a few months working in one restaurant. In all the waiter recorded 244 tips. The data was reported in a collection of case studies for business statistics <a href = \"https://sebastiansauer.github.io/data/tips-help.pdf\">(Bryant & Smith 1995)</a>. The waiter collected several variables: The tip in dollars, the bill in dollars, the sex of the bill payer, whether there were smokers in the party, the day of the week, the time of day and the size of the party.\n",
        "\n",
        "The command below loads the data from the file and stores it into an R dataframe object called `dat`."
      ],
      "metadata": {
        "cell_id": "dc517ab71662458ebef414cea526fb56",
        "deepnote_cell_type": "markdown",
        "id": "942kVIga1x_j"
      }
    },
    {
      "cell_type": "code",
      "source": [
        "## Run this code but do not edit it\n",
        "# This command saves the tips.csv to a dataframe\n",
        "url <- 'https://raw.githubusercontent.com/mahmoudharding/mat2/main/lesson6/data/tips.csv'\n",
        "dat <- read.csv(url)"
      ],
      "metadata": {
        "cell_id": "d449286501484a2e9f265cdd74cbf8da",
        "source_hash": "c9273af7",
        "execution_start": 1682600495952,
        "execution_millis": 6,
        "deepnote_to_be_reexecuted": false,
        "deepnote_cell_type": "code",
        "id": "b1DkB3C-1x_j"
      },
      "outputs": [],
      "execution_count": null
    },
    {
      "cell_type": "markdown",
      "source": [
        "To get a quick view of the first 6 rows in the `dat` dataframe, we can use the `head` function.\n",
        "\n",
        "Functions in R work a lot  like functions in math. You enter the name of the function (in this case `head`), then you provide an input for the function to use (in this case our dataframe `dat`) and then you get the results of the command."
      ],
      "metadata": {
        "cell_id": "f60bf4557a084698acf61b991c09aaa2",
        "deepnote_cell_type": "markdown",
        "id": "57Q20drk1x_j"
      }
    },
    {
      "cell_type": "code",
      "source": [
        "head(dat)"
      ],
      "metadata": {
        "cell_id": "3a184bb0b32041d2b96eb58cb681905e",
        "source_hash": "ba36e682",
        "execution_start": 1681706462435,
        "execution_millis": 46,
        "deepnote_to_be_reexecuted": false,
        "deepnote_cell_type": "code",
        "id": "TUpL-ZJm1x_j"
      },
      "outputs": [],
      "execution_count": null
    },
    {
      "cell_type": "markdown",
      "source": [
        "The vertical columns of the dataframe are called `variables`, and their elements are called `values`. For example, the variable `smoker` has values `Yes` or `No`.\n",
        "\n",
        "The horizontal rows of the dataframe are called `observations`. For example, the first observation is a customer that had a total bill of \\$16.99 and left a tip amount of \\$1.01 (which is about 6\\%)."
      ],
      "metadata": {
        "cell_id": "b24b0e510f3c40db9b9414cc4fc0bd97",
        "deepnote_cell_type": "markdown",
        "id": "cXlRoObB1x_j"
      }
    },
    {
      "cell_type": "markdown",
      "source": [
        "**Question 1.1 -** Of the variables displayed, identify one that is quantitative and one that is categorical."
      ],
      "metadata": {
        "cell_id": "c06be692240a474fa7056fbd06cba532",
        "deepnote_cell_type": "markdown",
        "id": "ophIEDpm1x_j"
      }
    },
    {
      "cell_type": "markdown",
      "source": [
        "**Double-click this cell to type your answer here:**"
      ],
      "metadata": {
        "cell_id": "d06dcff2cd794113a3f3b0ab38f32e3c",
        "deepnote_cell_type": "markdown",
        "id": "NK2AGkFP1x_j"
      }
    },
    {
      "cell_type": "markdown",
      "source": [
        "<div class=\"alert alert-block alert-info\"><b>Sample Response:</b> Categorical -->  smoker | Quantitative --> toal_bill<br><br><b>Instructor Note:</b> Here's our delineation and reasoning for the first several variables. Helping students develop their ability to classify the variables will be helpful for the decisions they make later in the data analysis process.\n",
        "\n",
        "- `total_bill` --> quantitative | Reasoning: it's numerical and describes the amount of the total bill\n",
        "- `tip` --> quantitative | Reasoning: it's numerical and decribes the ampount of the tip\n",
        "- `tip_percent` --> quantitative | Reasoning: it's numeric and describes the percent of the tip\n",
        "- `smoker` --> categorical | Reasoning: it's a label that describes whether or not the customer smoked (Yes or No)\n",
        "- `day` --> categorical | Reasoning: the day of the week (Thursday, Friday, Saturday, or Sunday)\n",
        "- `time` --> categorical | Reasoning: the type of meal (Lunch or Dinner)\n",
        "- `size` --> quantitative | Reasoning: it's numeric and describes the number of people in the group\n",
        "</div>"
      ],
      "metadata": {
        "cell_id": "60bd35931fe84d7e9bc1892f5d9b2728",
        "deepnote_cell_type": "markdown",
        "id": "p-Iiyy4Q1x_j"
      }
    },
    {
      "cell_type": "markdown",
      "source": [
        "The `head` command only displays several rows of the dataframe. To see the full dimensions of the dataframe, we can use the `dim` command.\n",
        "\n",
        "**Question 1.2 -** Use the `dim` command on `dat` to display the dimensions of the dataframe."
      ],
      "metadata": {
        "cell_id": "0c9ae3f80efa421fa7364bdeab92ba11",
        "deepnote_cell_type": "markdown",
        "id": "IISQ-OVL1x_j"
      }
    },
    {
      "cell_type": "code",
      "source": [
        "# Sample response\n",
        "dim(dat)"
      ],
      "metadata": {
        "cell_id": "975727a659064f95900edce878645c13",
        "source_hash": "7b1c7b82",
        "execution_start": 1681706462480,
        "execution_millis": 0,
        "deepnote_to_be_reexecuted": false,
        "deepnote_cell_type": "code",
        "id": "tXswJRMe1x_j"
      },
      "outputs": [],
      "execution_count": null
    },
    {
      "cell_type": "markdown",
      "source": [
        "The first number outputted by dim is the number of horizontal rows in the dataframe. This represents the number of observations (number of bills). The second number is the number of vertical columns in the dataframe. This represents the number of variables. What are all these variables? Here's a full description of each of them (as well as some background information on the data):"
      ],
      "metadata": {
        "cell_id": "221633e4d1ee45c7bd1632ef3a9d101f",
        "deepnote_cell_type": "markdown",
        "id": "bguLI7331x_j"
      }
    },
    {
      "cell_type": "markdown",
      "source": [
        "#### The Dataset\n",
        " Food servers’ tips in restaurants may be influenced by many factors, including the nature of the restaurant, size of the party, and table locations in the restaurant. Restaurant managers need to know which factors matter when they assign tables to food servers. For the sake of staff morale, they usually want to avoid either the substance or the appearance of unfair treatment of the servers, for whom tips (at least in restaurants in the United States) are a major component of pay.\n",
        "\n",
        "In one restaurant, a food server recorded the following data on all customers they served during an interval of two and a half months in early 1990. The restaurant, located in a suburban shopping mall, was part of a national chain and served a varied menu. In observance of local law, the restaurant offered to seat in a non-smoking section to patrons who requested it. Each record includes a day and time, and taken together, they show the server’s work schedule.\n",
        "\n",
        "##### Variables\n",
        "- `total_bill` - The amount of the total bill\n",
        "- `tip` - The ampount of the tip\n",
        "- `tip_percent` - The percent of the tip rounded to the nearest whole number\n",
        "- `smoker` - Whether or not the customer smoked (Yes or No)\n",
        "- `day` - The day of the week (Thursday, Friday, Saturday, or Sunday)\n",
        "- `time` - The type of meal (Lunch or Dinner)\n",
        "- `size` - The number of people in the group"
      ],
      "metadata": {
        "cell_id": "3002bbcde50e481c86b92c90c08d073f",
        "deepnote_cell_type": "markdown",
        "id": "ZvnvO1_k1x_j"
      }
    },
    {
      "cell_type": "markdown",
      "source": [
        "We'll only work with only a few variables at a time. In the following code, we use the `select` command to select only the variables `total_bill`, `tip`, `tip_percent`, `day` and `time` and save them in a new dataframe called `example_dat`."
      ],
      "metadata": {
        "cell_id": "9df5912eb7b342eeade3747d126570e3",
        "deepnote_cell_type": "markdown",
        "id": "gpx4cxmb1x_j"
      }
    },
    {
      "cell_type": "code",
      "source": [
        "## Run this code by do not edit it\n",
        "# Select certain columns from dat, store into example_dat\n",
        "example_dat <- select(dat, total_bill, tip, tip_percent, day, time)\n",
        "\n",
        "# Display head of example_dat\n",
        "head(example_dat)"
      ],
      "metadata": {
        "cell_id": "953bcd4b710e490ca5569653050093fd",
        "source_hash": "2d589d0a",
        "execution_start": 1681706462479,
        "execution_millis": 4,
        "deepnote_to_be_reexecuted": false,
        "deepnote_cell_type": "code",
        "id": "caEPhCIn1x_j"
      },
      "outputs": [],
      "execution_count": null
    },
    {
      "cell_type": "markdown",
      "source": [
        "<div class=\"alert alert-block alert-info\"><b>Instructor Note:</b> The <code>select</code> command is one of several functions in this notebook that come from a popular R package called <code>dplyr</code>. Because R is an open-source coding language, researchers and third-parties create their own packages of useful functions and share them freely online. The <code>coursekata</code> library, which we downloaded at the beginning of the notebook with the command <code>library(coursekata)</code>, compiles a bunch of the most popular packages together (including <code>dplyr</code>). To make sure you have all the most useful R functions at your disposal, we recommend using the <code>coursekata</code> library for all your projects.\n",
        "</div>"
      ],
      "metadata": {
        "cell_id": "da807aed24274edd943272a75eb73209",
        "deepnote_cell_type": "markdown",
        "id": "ZeGW6qRi1x_k"
      }
    },
    {
      "cell_type": "markdown",
      "source": [
        "**Question 1.3 -** Use the `select` command on to select the variables `total_bill`, `tip_percent`, `day` and `time` from `dat`. Store your new dataframe in an object called `my_dat` and display its head."
      ],
      "metadata": {
        "cell_id": "1428d77e6ce7467fa7756b04b995b3b4",
        "deepnote_cell_type": "markdown",
        "id": "86TKPv4G1x_k"
      }
    },
    {
      "cell_type": "code",
      "source": [
        "## Sample response\n",
        "# Select certain columns from dat, store into my_dat\n",
        "my_dat <- select(dat, total_bill, tip_percent, day, time)\n",
        "\n",
        "# Display head of my_dat\n",
        "head(my_dat)"
      ],
      "metadata": {
        "cell_id": "3eac905ed5db46a98dd214c6df37b118",
        "source_hash": "6669627e",
        "execution_start": 1681706462522,
        "execution_millis": 1,
        "deepnote_to_be_reexecuted": false,
        "deepnote_cell_type": "code",
        "id": "NYRue3M31x_k"
      },
      "outputs": [],
      "execution_count": null
    },
    {
      "cell_type": "markdown",
      "source": [
        "In addition to filtering out columns (variables), we can also filter out rows (observations). For example, if I only wanted to analyze receipts for lunches that have an total bill lower than 20 dollars, and occurred on Friday, I can use the `subset` command on `example_dat` like this:"
      ],
      "metadata": {
        "cell_id": "18aacfaa8c0c4d0697d90c294afc3a72",
        "deepnote_cell_type": "markdown",
        "id": "Pv7f080f1x_k"
      }
    },
    {
      "cell_type": "code",
      "source": [
        "## Run this code but do not edit it\n",
        "# Subset example_dat to only lunches that have a total bill of less than 20 dollars\n",
        "subset(example_dat, time == \"Lunch\" & total_bill < 20 & day == \"Fri\")"
      ],
      "metadata": {
        "cell_id": "2d90b409920b48a1a72fcffdf4edbba2",
        "source_hash": "ca6346cc",
        "execution_start": 1681706462577,
        "execution_millis": 19,
        "deepnote_to_be_reexecuted": false,
        "deepnote_cell_type": "code",
        "id": "1ILNbUmI1x_k"
      },
      "outputs": [],
      "execution_count": null
    },
    {
      "cell_type": "markdown",
      "source": [
        "A total of seven observations fit these conditions.\n",
        "\n",
        "Note that R has different conventions for comparative statements. For example...\n",
        "- `==` means `equals exactly`\n",
        "- `!=` means `does not equal`\n",
        "- `<` means `less than`\n",
        "- `>` means `greater than`\n",
        "- `<=` means `less than or equal to`\n",
        "- `>=` means `greater than or equal to`\n",
        "\n",
        "Here are some other common conditional symbols\n",
        "- `|` means `or`\n",
        "- `&` means `and`"
      ],
      "metadata": {
        "cell_id": "54475cfb7e9648b2a6697ab59180a962",
        "deepnote_cell_type": "markdown",
        "id": "6om9qh8h1x_k"
      }
    },
    {
      "cell_type": "markdown",
      "source": [
        "**Question 1.4 -** Use the `subset` command to find the bills in `my_dat` that were more than 40 dollars and occurred during dinner."
      ],
      "metadata": {
        "cell_id": "6ed84ab54d804976827e00f62ecf279c",
        "deepnote_cell_type": "markdown",
        "id": "5Mj-QK-_1x_k"
      }
    },
    {
      "cell_type": "code",
      "source": [
        "## Sample response\n",
        "# Subset my_dat to large lunch bills on Thursday\n",
        "subset(my_dat, total_bill > 40 & time == \"Dinner\")"
      ],
      "metadata": {
        "cell_id": "f56cf3599f8248e69e6bc3debe1e2250",
        "source_hash": "b2518d",
        "execution_start": 1681706462637,
        "execution_millis": 7,
        "deepnote_to_be_reexecuted": false,
        "deepnote_cell_type": "code",
        "id": "60ykPZxo1x_k"
      },
      "outputs": [],
      "execution_count": null
    },
    {
      "cell_type": "markdown",
      "source": [
        "**Question 1.5 -** What do you notice about the observations that fit your selection criteria? What do you wonder?"
      ],
      "metadata": {
        "cell_id": "5aef77e48b6c4f2ea8124db7dbfa2e58",
        "deepnote_cell_type": "markdown",
        "id": "AdgS--Gp1x_k"
      }
    },
    {
      "cell_type": "markdown",
      "source": [
        "**Double-click this cell to type your answer here:**"
      ],
      "metadata": {
        "cell_id": "f3d958c6c07d4e60b56f902228635806",
        "deepnote_cell_type": "markdown",
        "id": "HgKDa8uN1x_k"
      }
    },
    {
      "cell_type": "markdown",
      "source": [
        "<div class=\"alert alert-block alert-info\"><b>Sample Response:</b> It seems like most of the dinner bills that are over 40 dollars occurred on the weekend (Saturday and Sunday). This is when many poeple are not working and have more time and/or energy to go out for dinner.\n",
        "</div>"
      ],
      "metadata": {
        "cell_id": "64a6ba724ff14da48e0083dc3f12c78d",
        "deepnote_cell_type": "markdown",
        "id": "3yDxQ1c51x_k"
      }
    },
    {
      "cell_type": "markdown",
      "source": [
        "Another way to explore a dataset is to reorder its observations. For example, we can use the `arrange` command to order the observations in `example_dat` by their total bill:"
      ],
      "metadata": {
        "cell_id": "56e00c11a990482ca845138f721c6e4b",
        "deepnote_cell_type": "markdown",
        "id": "IGSrjwzT1x_k"
      }
    },
    {
      "cell_type": "code",
      "source": [
        "## Run this code but do not edit it\n",
        "# Arrange data in order of their total bill\n",
        "arrange(example_dat, total_bill)"
      ],
      "metadata": {
        "cell_id": "94548f817658484eafb33decc8c3db2c",
        "source_hash": "5ebefd30",
        "execution_start": 1681706462637,
        "execution_millis": 39,
        "deepnote_to_be_reexecuted": false,
        "deepnote_cell_type": "code",
        "id": "DFMtg6T_1x_k"
      },
      "outputs": [],
      "execution_count": null
    },
    {
      "cell_type": "markdown",
      "source": [
        "You may be wondering what is the largest bill, when did it occur, how much was the tip, etc ... To arrange the data in descending order of total bill (highest total bill on top), we can use the `desc` argument within our `arrange` command:"
      ],
      "metadata": {
        "cell_id": "f22f1507a5c6409a93594e0807624a28",
        "deepnote_cell_type": "markdown",
        "id": "RSEdnGHz1x_k"
      }
    },
    {
      "cell_type": "code",
      "source": [
        "## Run this code but do not edit it\n",
        "# Arrange data in descending order of their total bill\n",
        "arrange(example_dat, desc(total_bill))"
      ],
      "metadata": {
        "cell_id": "06c9b40bda374627841b7144f775db5f",
        "source_hash": "4e31e215",
        "execution_start": 1681706462716,
        "execution_millis": 23,
        "deepnote_to_be_reexecuted": false,
        "deepnote_cell_type": "code",
        "id": "uHlfsqPN1x_k"
      },
      "outputs": [],
      "execution_count": null
    },
    {
      "cell_type": "markdown",
      "source": [
        "**Question 1.6 -** Use the `arrange` command to organize the bills in `my_dat` such that the total bills with the highest tip percentages are at the top."
      ],
      "metadata": {
        "cell_id": "9c876b470d5046dea6cb1a370a989203",
        "deepnote_cell_type": "markdown",
        "id": "WzfIwJ9q1x_k"
      }
    },
    {
      "cell_type": "code",
      "source": [
        "## Sample response\n",
        "# Arrange data in descending order of their default rates\n",
        "arrange(my_dat, desc(tip_percent))"
      ],
      "metadata": {
        "cell_id": "5ca59cd865814a83971df9da0a27aebf",
        "source_hash": "dbf97db0",
        "execution_start": 1681706462778,
        "execution_millis": 8,
        "deepnote_to_be_reexecuted": false,
        "deepnote_cell_type": "code",
        "id": "jrdvC4L61x_k"
      },
      "outputs": [],
      "execution_count": null
    },
    {
      "cell_type": "markdown",
      "source": [
        "### 2.0 - Finding summary statistics"
      ],
      "metadata": {
        "cell_id": "6e0827c92a2b4119bd9f598bf2a0cac9",
        "deepnote_cell_type": "markdown",
        "id": "auuCcMd01x_k"
      }
    },
    {
      "cell_type": "markdown",
      "source": [
        "When analyzing variables of interest, it's often helpful to calculate summary statistics. For quantitative variables, we can use the `summary` command to find the five-number summary (minimum, Q1, median, Q3, maximum) and the average (mean) of the values. The code block shows how we find these summary statistics for the `total_bill` variable.\n",
        "\n",
        "**Note:** The `$` sign in R is used to isolate a single variable (`total_bill`) from a dataframe (`dat`)."
      ],
      "metadata": {
        "cell_id": "58b2165e7a6c42b8a23ed535e4292c50",
        "deepnote_cell_type": "markdown",
        "id": "WF68oxP41x_k"
      }
    },
    {
      "cell_type": "code",
      "source": [
        "## Run this code but do not edit it\n",
        "# Find summary statistics for total bill\n",
        "summary(dat$total_bill)"
      ],
      "metadata": {
        "cell_id": "f2390965a676452c83b3728aa2271c4d",
        "source_hash": "529523e0",
        "execution_start": 1681706462831,
        "execution_millis": 1,
        "deepnote_to_be_reexecuted": false,
        "deepnote_cell_type": "code",
        "id": "zMBE9eQ51x_k"
      },
      "outputs": [],
      "execution_count": null
    },
    {
      "cell_type": "markdown",
      "source": [
        "<div class=\"alert alert-block alert-info\"><b>Instructor Note:</b> If students are unfamiliar with calculating or interpreting medians and quartiles, we recommend <a href = \"https://www.khanacademy.org/math/cc-sixth-grade-math/cc-6th-data-statistics/cc-6th-box-whisker-plots/v/constructing-a-box-and-whisker-plot\">this video</a> from Khan Academy (quick refresher) or <a href = \"https://skewthescript.org/1-5\">this lesson</a> from Skew The Script (detailed lesson with real-world context).\n",
        "</div>"
      ],
      "metadata": {
        "cell_id": "ca8d94c222ff4e5189e48df579f3f988",
        "deepnote_cell_type": "markdown",
        "id": "QWFDim831x_n"
      }
    },
    {
      "cell_type": "markdown",
      "source": [
        "**Question 2.1 -** Use the `summary` command to get summary statistics for the `tip_percent` variable in the `dat` dataframe."
      ],
      "metadata": {
        "cell_id": "8459559116a54869bbac37b7b01298db",
        "deepnote_cell_type": "markdown",
        "id": "PTyE5dVy1x_n"
      }
    },
    {
      "cell_type": "code",
      "source": [
        "## Sample response\n",
        "# Find summary statistics for tip_percent\n",
        "summary(dat$tip_percent)"
      ],
      "metadata": {
        "cell_id": "cb8b5d7ad2f24e7487897ee8040b36c6",
        "source_hash": "44e91029",
        "execution_start": 1681706462831,
        "execution_millis": 3,
        "deepnote_to_be_reexecuted": false,
        "deepnote_cell_type": "code",
        "id": "Z1G97okO1x_n"
      },
      "outputs": [],
      "execution_count": null
    },
    {
      "cell_type": "markdown",
      "source": [
        "**Question 2.2 -** Comment on what these summary statistics reveal about the `tip_percent` values in our dataset."
      ],
      "metadata": {
        "cell_id": "6e674aab29ce4b4286a1a922e2d34fa5",
        "deepnote_cell_type": "markdown",
        "id": "BXPmzesp1x_n"
      }
    },
    {
      "cell_type": "markdown",
      "source": [
        "**Double-click this cell to type your answer here:**"
      ],
      "metadata": {
        "cell_id": "891ad03e55cf459190f550afee55b78c",
        "deepnote_cell_type": "markdown",
        "id": "RR9mmOIS1x_n"
      }
    },
    {
      "cell_type": "markdown",
      "source": [
        "<div class=\"alert alert-block alert-info\"><b>Sample Response:</b> <li>The minimum tip percent is 4, meaning that one or more total bills did not receive a high tip. This could mean that the total bill was large so the amount of the tip was significant even though the tip percent was low, or it could mean that the customers were not pleased with either the meal or the service.</li><li>Q3 is 19%, meaning 75% of tip percents were 19 or lower. So, the maximum tip percent (71%) is quite a bit higher than a good majority of institutions (since Q3 is 75%). This makes me think that most of the tip percents were between 15-20%.\n",
        "</div>"
      ],
      "metadata": {
        "cell_id": "53ea5b94fdfb4004bbe84075aa473317",
        "deepnote_cell_type": "markdown",
        "id": "Ow-X-U-Q1x_n"
      }
    },
    {
      "cell_type": "markdown",
      "source": [
        "For categorical data, it doesn't make sense to find means and medians. Instead, it's helpful to look at value counts and proportions. We can use the `table` command to find the counts of the different values for `time`:"
      ],
      "metadata": {
        "cell_id": "35446154588742e480588640adf0dd72",
        "deepnote_cell_type": "markdown",
        "id": "WUJiyhV01x_n"
      }
    },
    {
      "cell_type": "code",
      "source": [
        "## Run this code but do not edit it\n",
        "# Find counts of values for day\n",
        "day_counts <- table(dat$day)\n",
        "day_counts"
      ],
      "metadata": {
        "cell_id": "59819ec5aa0948668d9f5406e47b4e10",
        "source_hash": "95758f60",
        "execution_start": 1681706462877,
        "execution_millis": 1,
        "deepnote_to_be_reexecuted": false,
        "deepnote_cell_type": "code",
        "id": "fupi51e31x_n"
      },
      "outputs": [],
      "execution_count": null
    },
    {
      "cell_type": "markdown",
      "source": [
        "87 of the bills in our dataset occurred on Saturday. On the other end of the spectrum, 19 occurred on Friday.\n",
        "\n",
        "To get a better sense of scale, we can turn these raw counts into proportions by dividing them by the total:"
      ],
      "metadata": {
        "cell_id": "9b3ceecfbafd4d91b8589a749984fa27",
        "deepnote_cell_type": "markdown",
        "id": "IXumiymj1x_o"
      }
    },
    {
      "cell_type": "code",
      "source": [
        "## Run this code but do not edit it\n",
        "# Get total by summing of all counts in table\n",
        "total <- sum(day_counts)\n",
        "total"
      ],
      "metadata": {
        "cell_id": "0588be43d1c243c5938a49c83a79f3e5",
        "source_hash": "bd50610e",
        "execution_start": 1681706462877,
        "execution_millis": 1,
        "deepnote_to_be_reexecuted": false,
        "deepnote_cell_type": "code",
        "id": "XoI702pk1x_o"
      },
      "outputs": [],
      "execution_count": null
    },
    {
      "cell_type": "code",
      "source": [
        "## Run this code but do not edit it\n",
        "# Divide table by total to get proportions\n",
        "day_counts / total"
      ],
      "metadata": {
        "cell_id": "1c6f87199f854516972308e4ccf507b7",
        "source_hash": "cc4518af",
        "execution_start": 1681706462877,
        "execution_millis": 17,
        "deepnote_to_be_reexecuted": false,
        "deepnote_cell_type": "code",
        "id": "Q6JQwrVZ1x_o"
      },
      "outputs": [],
      "execution_count": null
    },
    {
      "cell_type": "markdown",
      "source": [
        "As you can see, you can use R just like a calculator. Addition, subtraction, multiplication, division ... it's all there. The results show that most of the meals in our dataset happened on Saturday. They make up about 36% of all the bills in our dataset. These are about 5 times more prevalent in our dataset than meals that occurred on Friday."
      ],
      "metadata": {
        "cell_id": "1491e80c26fa44d497280de3ecff6f75",
        "deepnote_cell_type": "markdown",
        "id": "Cmzaz8vk1x_o"
      }
    },
    {
      "cell_type": "markdown",
      "source": [
        "**Question 2.3 -** Use the `table` command to get the value counts for the `time` variable."
      ],
      "metadata": {
        "cell_id": "071480e9bf6949fab8854c7fba9547b7",
        "deepnote_cell_type": "markdown",
        "id": "RcM6UgOV1x_o"
      }
    },
    {
      "cell_type": "code",
      "source": [
        "## Sample response\n",
        "# Find value counts for the time variable\n",
        "time_counts <- table(dat$time)\n",
        "time_counts"
      ],
      "metadata": {
        "cell_id": "086e0e04ce0f4ba69a1a88a2f87bca16",
        "source_hash": "7cbab896",
        "execution_start": 1681706462895,
        "execution_millis": 7,
        "deepnote_to_be_reexecuted": false,
        "deepnote_cell_type": "code",
        "id": "Wwq_4cZ61x_o"
      },
      "outputs": [],
      "execution_count": null
    },
    {
      "cell_type": "markdown",
      "source": [
        "**Question 2.4 -** Find and comment on the proportion of all meal types - dinner and lunch."
      ],
      "metadata": {
        "cell_id": "4e0b046774ba4a4cb4864ea44b251131",
        "deepnote_cell_type": "markdown",
        "id": "hy4gXEfk1x_o"
      }
    },
    {
      "cell_type": "code",
      "source": [
        "## Sample response\n",
        "# Get total by summing of all counts in table\n",
        "total <- sum(time_counts)\n",
        "\n",
        "# Get proportions for time by dividing table by total\n",
        "time_counts / total"
      ],
      "metadata": {
        "cell_id": "850ccb7321e94272a01cc0d48e24c55b",
        "source_hash": "82fb8d4c",
        "execution_start": 1681706462902,
        "execution_millis": 12,
        "deepnote_to_be_reexecuted": false,
        "deepnote_cell_type": "code",
        "id": "x4TrEiMt1x_o"
      },
      "outputs": [],
      "execution_count": null
    },
    {
      "cell_type": "markdown",
      "source": [
        "<div class=\"alert alert-block alert-info\"><b>Sample Response:</b> We see more than double the amount of dinner observations than lunch observations.\n",
        "</div>"
      ],
      "metadata": {
        "cell_id": "f12798973f7c45ec8e9e1028ebde7492",
        "deepnote_cell_type": "markdown",
        "id": "eDauA_jJ1x_o"
      }
    },
    {
      "cell_type": "markdown",
      "source": [
        "### 3.0 - Visualizing data (histograms, barplots, and boxplots)"
      ],
      "metadata": {
        "cell_id": "3509423484a1470483a465e3455dd4e9",
        "deepnote_cell_type": "markdown",
        "id": "UaYBnfP51x_o"
      }
    },
    {
      "cell_type": "markdown",
      "source": [
        "<div class=\"alert alert-block alert-info\"><b>Instructor Note:</b> There are multiple packages and functions in R for visualizing data. In this project, we're sticking with the formula interface of the popular <code>ggplot2</code> package. You can tell that you're working with the formula interface of <code>ggplot2</code> when you see commands with the prefix <code>gf</code>, as in <code>gf_histogram</code>, <code>gf_bar</code>, and <code>gf_point</code>. The <code>coursekata</code> library includes <code>ggplot2</code> and all its formula interface functions. Because we downloaded the CourseKata library at the beginning of the notebook with the <code>library(coursekata)</code> command, we can access all these functions throughout our notebook.\n",
        "</div>"
      ],
      "metadata": {
        "cell_id": "8df110a7ae644a6395a8e38ef5f78d5e",
        "deepnote_cell_type": "markdown",
        "id": "-ibw8Fj91x_o"
      }
    },
    {
      "cell_type": "markdown",
      "source": [
        "In addition to summary statistics, a great way to get an overall impression of our data is to visualize it. In this section, we'll walk through different types of visualizations we can create in R.\n",
        "\n",
        "**Note:** We're going to save scatterplots for the next notebook later in the course.\n",
        "\n",
        "One of the most useful visualizations for displaying a quantitative variable is a histogram. Here, we use the gf_histogram command to display the histogram for admit_rate."
      ],
      "metadata": {
        "cell_id": "49228368c9f94e40b8f791668c21742d",
        "deepnote_cell_type": "markdown",
        "id": "Jy7EThb_1x_o"
      }
    },
    {
      "cell_type": "code",
      "source": [
        "## Run this code but do not edit it\n",
        "# Create histogram for total bill\n",
        "gf_histogram(~total_bill, data = dat, fill = 'turquoise', color = 'black')"
      ],
      "metadata": {
        "cell_id": "85723191284e401e9aa3f5a35f34559c",
        "source_hash": "57a9dec6",
        "execution_start": 1681706462909,
        "execution_millis": 485,
        "deepnote_to_be_reexecuted": false,
        "deepnote_cell_type": "code",
        "id": "O9y5t4QI1x_o"
      },
      "outputs": [],
      "execution_count": null
    },
    {
      "cell_type": "markdown",
      "source": [
        "As we suspected from the summary statistics, it appears that most bills are between 13 and 25 dollars, we call this distribution **right skew**, since there's a tail on the right side. So, total bills that are more than 30 dollars are relatively unusual compared to most of the other total bills in our dataset."
      ],
      "metadata": {
        "cell_id": "ef8bb951ae464d1d8057f1afff7aee64",
        "deepnote_cell_type": "markdown",
        "id": "qG8scpXA1x_o"
      }
    },
    {
      "cell_type": "markdown",
      "source": [
        "**Question 3.1 -** Create a histogram to visualize all the `tip_percent` values in the `dat` dataframe.\n"
      ],
      "metadata": {
        "cell_id": "d8f6870528ea45018362a76573cdb777",
        "deepnote_cell_type": "markdown",
        "id": "uzOheqJz1x_o"
      }
    },
    {
      "cell_type": "code",
      "source": [
        "## Sample Response\n",
        "# Create histogram for tip_percent\n",
        "gf_histogram(~tip_percent, data = dat, fill = 'turquoise', color = 'black')"
      ],
      "metadata": {
        "cell_id": "e4fd6a3cfc87470ea02ef4df15207897",
        "source_hash": "b2c84d31",
        "execution_start": 1681706463393,
        "execution_millis": 317,
        "deepnote_to_be_reexecuted": false,
        "deepnote_cell_type": "code",
        "id": "iDkJ4lOr1x_o"
      },
      "outputs": [],
      "execution_count": null
    },
    {
      "cell_type": "markdown",
      "source": [
        "**Question 3.2 -** Describe the distribution and note any features of interest."
      ],
      "metadata": {
        "cell_id": "c74cc270b67d4c35a4a5dbc6590548fc",
        "deepnote_cell_type": "markdown",
        "id": "IQdAFbwy1x_o"
      }
    },
    {
      "cell_type": "markdown",
      "source": [
        "**Double-click this cell to type your answer here:**"
      ],
      "metadata": {
        "cell_id": "3db7a02010b34bb292164263df693e17",
        "deepnote_cell_type": "markdown",
        "id": "n0siEfXp1x_o"
      }
    },
    {
      "cell_type": "markdown",
      "source": [
        "<div class=\"alert alert-block alert-info\"><b>Sample Response:</b> We see that tip percents are right skewed, with most tip percents being between 10-20%. However, there are a small number of unusally high tip percents, at 30% or above.\n",
        "</div>"
      ],
      "metadata": {
        "cell_id": "b218bd4cb1274b2eb12472741e55a214",
        "deepnote_cell_type": "markdown",
        "id": "SiSeu5_41x_o"
      }
    },
    {
      "cell_type": "markdown",
      "source": [
        "To visualize categorical variables, we can use the `gf_bar` command to make bar plots. Here we create a bar plot for day:"
      ],
      "metadata": {
        "cell_id": "e6c04f4885534267ad062d954dea3cdb",
        "deepnote_cell_type": "markdown",
        "id": "uaFzgSld1x_o"
      }
    },
    {
      "cell_type": "code",
      "source": [
        "## Run this code but do not edit it\n",
        "# Create bar plot for day\n",
        "gf_bar(~day, data = dat, fill = 'turquoise', color = 'black')"
      ],
      "metadata": {
        "cell_id": "2b6a9f6e66994cc8bb21cf81c25ac878",
        "source_hash": "cb7d5d7b",
        "execution_start": 1681706463713,
        "execution_millis": 266,
        "deepnote_to_be_reexecuted": false,
        "deepnote_cell_type": "code",
        "id": "a5gHhO0p1x_o"
      },
      "outputs": [],
      "execution_count": null
    },
    {
      "cell_type": "markdown",
      "source": [
        "As shown here, most of the days in our dataset are Saturday. A much fewer number of days (less than 25) are Friday.\n",
        "\n",
        "**Note:** The bins in histograms are right next to one another, whereas the bins in barplots are separated by a bit of space. This is because the data in histograms are quantative. For example, a tip 11% is just above a tip of 12%, so these values should appear right next to one another (if binned separately). Meanwhile, the data in bar plots is categorical."
      ],
      "metadata": {
        "cell_id": "36ef9222f0fc4786a21176c27628b6ce",
        "deepnote_cell_type": "markdown",
        "id": "_oXPTQrS1x_o"
      }
    },
    {
      "cell_type": "markdown",
      "source": [
        "**Question 3.3 -** Create a bar plot to visualize the `time` values from the `dat` dataframe."
      ],
      "metadata": {
        "cell_id": "14e424877b534c91a69918de11dbecf9",
        "deepnote_cell_type": "markdown",
        "id": "uKDZCrCD1x_p"
      }
    },
    {
      "cell_type": "code",
      "source": [
        "## Sample Response\n",
        "# Create bar plot for ownership\n",
        "gf_bar(~time, data = dat, fill = 'turquoise', color = 'black')"
      ],
      "metadata": {
        "cell_id": "573dc55a8ffd49dda88e0af2fc5e7d58",
        "source_hash": "22f61771",
        "execution_start": 1681706463978,
        "execution_millis": 220,
        "deepnote_to_be_reexecuted": false,
        "deepnote_cell_type": "code",
        "id": "HlLjtrtX1x_p"
      },
      "outputs": [],
      "execution_count": null
    },
    {
      "cell_type": "markdown",
      "source": [
        "**Question 3.4 -** Describe the distribution and note any features of interest."
      ],
      "metadata": {
        "cell_id": "980b166e8e9f4ed3b0f93b21593460b7",
        "deepnote_cell_type": "markdown",
        "id": "nZvQ7ryM1x_p"
      }
    },
    {
      "cell_type": "markdown",
      "source": [
        "**Double-click this cell to type your answer here:**"
      ],
      "metadata": {
        "cell_id": "63204aba359b45619b39c17c6b02b84b",
        "deepnote_cell_type": "markdown",
        "id": "bv8XfEIy1x_p"
      }
    },
    {
      "cell_type": "markdown",
      "source": [
        "<div class=\"alert alert-block alert-info\"><b>Sample Response:</b> The most common type of meal in our dataset is dinner, followed by lunch.\n",
        "</div>"
      ],
      "metadata": {
        "cell_id": "6078f6c416b34ae8b7e47579858cbd0b",
        "deepnote_cell_type": "markdown",
        "id": "AQuzPw-v1x_p"
      }
    },
    {
      "cell_type": "markdown",
      "source": [
        "Sometimes, we may want to explore the relationship between two variables by visualizing them both at once. When we want to visualize the relationship between a categorical variable and quantitative variable, we can use boxplots. Here, we show how to use `gf_boxplot` to visualize the relationship between `time` (categorical) and `total_bill` (quantitative)."
      ],
      "metadata": {
        "cell_id": "5ddec0a41837483b8d153961528522ce",
        "deepnote_cell_type": "markdown",
        "id": "QxD02Nww1x_p"
      }
    },
    {
      "cell_type": "code",
      "source": [
        "## Run this code but do not edit it\n",
        "# Create boxplots for admit_rates of institutions with different highest_degree values\n",
        "gf_boxplot(total_bill ~ time, data = dat, fill = 'turquoise', color = 'black')"
      ],
      "metadata": {
        "cell_id": "eebc262e140145929dbf0e55cb76e350",
        "source_hash": "16278a60",
        "execution_start": 1681706464200,
        "execution_millis": 324,
        "deepnote_to_be_reexecuted": false,
        "deepnote_cell_type": "code",
        "id": "XdiLhJGi1x_p"
      },
      "outputs": [],
      "execution_count": null
    },
    {
      "cell_type": "markdown",
      "source": [
        "<div class=\"alert alert-block alert-info\"><b>Instructor Note:</b> By convention, in R's boxplots, outliers are visualized as dots. The edges of the box represent the first and third quartiles, and the line within the box represents the median. If students are unfamiliar with boxplots, we recommend <a href = \"https://www.khanacademy.org/math/cc-sixth-grade-math/cc-6th-data-statistics/cc-6th-box-whisker-plots/v/constructing-a-box-and-whisker-plot\">this video</a> from Khan Academy (quick refresher) or <a href = \"https://skewthescript.org/1-5\">this lesson</a> from Skew The Script (detailed lesson with real-world context).\n",
        "</div>"
      ],
      "metadata": {
        "cell_id": "cdbabe6ebd6f4a828a96aaae1aa80a4d",
        "deepnote_cell_type": "markdown",
        "id": "ApiLrKYP1x_p"
      }
    },
    {
      "cell_type": "markdown",
      "source": [
        "In this case, we're using `time` as the **predictor variable** and `total_bill` as the **outcome variable**. In other words, we can use the time (dinner or luch) to help predict its total bill. That's because certain meals my cost more than others. So, knowing the type of meal can help us better predict the total bill.\n",
        "\n",
        "**Note:** This predictor-outcome relationship is coded in R through the syntax `outcome ~ predictor`, as in `gf_boxplot(total_bill ~ time,...)`.\n",
        "\n",
        "We see that total bills tend to be lower (lower medians) for lunch than for dinner. At many resteraunts there are lunch specials that tend to be cheaper than dinner options. Also, people may not eat as much during lunch as they would for dinner."
      ],
      "metadata": {
        "cell_id": "9b2577873017462da91cda97499ffd07",
        "deepnote_cell_type": "markdown",
        "id": "QtKNQR7b1x_p"
      }
    },
    {
      "cell_type": "markdown",
      "source": [
        "**Question 3.5 -** Create boxplots to visualize the relationship between `time` and `tip_percent` from the `dat` dataframe."
      ],
      "metadata": {
        "cell_id": "0ae436961b0348168d88a1ce257b897f",
        "deepnote_cell_type": "markdown",
        "id": "JeSzCrzV1x_p"
      }
    },
    {
      "cell_type": "code",
      "source": [
        "## Sample Response\n",
        "# Create boxplots for tip_percent of meals (dinner and lunch)\n",
        "gf_boxplot(tip_percent ~ time, data = dat, fill = 'turquoise', color = 'black')"
      ],
      "metadata": {
        "cell_id": "b57aabd054d146f884167f5193d69d1d",
        "source_hash": "c27b5b3e",
        "execution_start": 1681706464524,
        "execution_millis": 276,
        "deepnote_to_be_reexecuted": false,
        "deepnote_cell_type": "code",
        "id": "41eeqTtx1x_p"
      },
      "outputs": [],
      "execution_count": null
    },
    {
      "cell_type": "markdown",
      "source": [
        "**Question 3.6 -** Create boxplots to visualize the relationship between `day` and `tip_percent` from the `dat` dataframe.\n"
      ],
      "metadata": {
        "cell_id": "a02801f2ebd747fdaf319f6662d94e39",
        "deepnote_cell_type": "markdown",
        "id": "ECIbBWkR1x_p"
      }
    },
    {
      "cell_type": "code",
      "source": [
        "## Sample Response\n",
        "# Create boxplots for tip_percent of meals (Friday, Saturday, Sunday)\n",
        "gf_boxplot(tip_percent ~ day, data = dat, fill = 'turquoise', color = 'black')"
      ],
      "metadata": {
        "cell_id": "b98ec52213534295a147ed121dc52adb",
        "source_hash": "ea7faf51",
        "execution_start": 1681706464793,
        "execution_millis": 309,
        "deepnote_to_be_reexecuted": false,
        "deepnote_cell_type": "code",
        "id": "GXuVKmBo1x_p"
      },
      "outputs": [],
      "execution_count": null
    },
    {
      "cell_type": "markdown",
      "source": [
        "**Question 3.6 -** Using your boxplot visualizations from **Question 3.4** and **Question 3.5**, describe the relationship between day and time, and tip percent."
      ],
      "metadata": {
        "cell_id": "1da2adaeebc44c6bb2a0c1f1adec3147",
        "deepnote_cell_type": "markdown",
        "id": "u9vu_4g-1x_p"
      }
    },
    {
      "cell_type": "markdown",
      "source": [
        "**Double-click this cell to type your answer here:**"
      ],
      "metadata": {
        "cell_id": "7788a54786224f559374bb716fa2e828",
        "deepnote_cell_type": "markdown",
        "id": "vRHljY5R1x_p"
      }
    },
    {
      "cell_type": "markdown",
      "source": [
        "<div class=\"alert alert-block alert-info\"><b>Sample Response:</b> Tip percent does not vary much across the different days (Friday, Saturday, or Sunday) or time (Dinner, Lunch). There seems to be a tendancy to give an unusally large tip during dinner as opposed to lunch. This seems to suggest that there is a standard rate for tipping that most people tend to follow.\n",
        "</div>"
      ],
      "metadata": {
        "cell_id": "879384381a6d497b92b2566d0c1d1694",
        "deepnote_cell_type": "markdown",
        "id": "48U_xw_51x_p"
      }
    },
    {
      "cell_type": "markdown",
      "source": [
        "### 4.0 - The Constant Model"
      ],
      "metadata": {
        "id": "CsxkxiZP1x_p"
      }
    },
    {
      "cell_type": "markdown",
      "source": [
        "We can implement the calculations for the constant model using R. Remember the process:\n",
        "\n",
        "- Choose a value for $\\theta$\n",
        "- Compute the absolute loss for each observation $|y-\\theta|$\n",
        "- Find the sum of all the loss\n",
        "- Divide the sum by the number of observations\n",
        "\n",
        "**Note:** We will do each step on a separate line.\n",
        "\n",
        "The code cell below implements the mean absolute loss for the tip percent."
      ],
      "metadata": {
        "cell_id": "7267c544738543779aab690ab431e1f5",
        "deepnote_cell_type": "markdown",
        "id": "X7sKnRqw1x_p"
      }
    },
    {
      "cell_type": "code",
      "source": [
        "## Run this code but do not edit it\n",
        "# Choose a value for theta, compute the absolute loss,\n",
        "# find the sum of all the loss, and\n",
        "# divide the sum by the number of observations\n",
        "\n",
        "theta = 10\n",
        "absolute_loss = dat$tip_percent - theta\n",
        "sum_loss = sum(absolute_loss)\n",
        "mean_absolute_loss = sum_loss/length(absolute_loss)\n",
        "\n",
        "print(paste(\"The mean absolute loss with theta =\", theta, \" is \", mean_absolute_loss))"
      ],
      "metadata": {
        "cell_id": "b5c7acdeadef4a33adc87eae939b7ab6",
        "source_hash": "d3cc6790",
        "execution_start": 1681706465100,
        "execution_millis": 14,
        "deepnote_to_be_reexecuted": false,
        "deepnote_cell_type": "code",
        "id": "PC-1PQMl1x_p"
      },
      "outputs": [],
      "execution_count": null
    },
    {
      "cell_type": "markdown",
      "source": [
        "Choose a different value for $\\theta$ between 10-20%. Assign your choice for $\\theta$ to `theta = `, then run the cell."
      ],
      "metadata": {
        "cell_id": "15fc211469c64f0ba0a6f957007f0360",
        "deepnote_cell_type": "markdown",
        "id": "KSdUM-BA1x_q"
      }
    },
    {
      "cell_type": "code",
      "source": [
        "## Run this code but do not edit it\n",
        "# Choose a value for theta, compute the absolute loss,\n",
        "# find the sum of all the loss, and\n",
        "# divide the sum by the number of observations\n",
        "\n",
        "theta = 10\n",
        "absolute_loss = dat$tip_percent - theta\n",
        "sum_loss = sum(absolute_loss)\n",
        "mean_absolute_loss = sum_loss/length(absolute_loss)\n",
        "\n",
        "print(paste(\"The mean absolute loss with theta =\", theta, \" is \", mean_absolute_loss))"
      ],
      "metadata": {
        "cell_id": "a4103aabc2d24a4aa4ef0f4f8dae0884",
        "allow_embed": false,
        "source_hash": "d3cc6790",
        "execution_start": 1681706465113,
        "execution_millis": 39,
        "deepnote_to_be_reexecuted": false,
        "deepnote_cell_type": "code",
        "id": "1xeaA3-B1x_q"
      },
      "outputs": [],
      "execution_count": null
    },
    {
      "cell_type": "markdown",
      "source": [
        "**Question 3.7 -** Was you value for mean absolute loss greater than or less than the $\\theta=10$. Explain what it means for the value of `mean_absolute_loss` to be greater for $\\theta=10$. What value of $\\theta$ do you think will result in the lowest amount for the `mean_absolute_loss`?"
      ],
      "metadata": {
        "cell_id": "a09c342bf3194155a981bf5a034007db",
        "deepnote_cell_type": "markdown",
        "id": "3hTzVRKG1x_q"
      }
    },
    {
      "cell_type": "markdown",
      "source": [
        "**Double-click this cell to type your answer here:**"
      ],
      "metadata": {
        "cell_id": "03cea259192f4f24a123b8fe430bbc67",
        "deepnote_cell_type": "markdown",
        "id": "JSWPl5TH1x_q"
      }
    },
    {
      "cell_type": "markdown",
      "source": [
        "<div class=\"alert alert-block alert-info\"><b>Sample Response:</b> The best value to choose for predciting mean absolute loss is the median.</div>"
      ],
      "metadata": {
        "cell_id": "1ba18ae8f5394201af45fead53893d0e",
        "deepnote_cell_type": "markdown",
        "id": "d0ssM4TL1x_q"
      }
    },
    {
      "cell_type": "markdown",
      "source": [
        "Now, let's try setting the value of $\\theta$ to the median. Then check the results from our `mean_absolute_loss` process."
      ],
      "metadata": {
        "cell_id": "9771871a118240d09543519420b6075d",
        "deepnote_cell_type": "markdown",
        "id": "wOnDodE81x_q"
      }
    },
    {
      "cell_type": "code",
      "source": [
        "## Run this code but do not edit it\n",
        "# Find the median `tip_percent` column, then calculate the mean absolute loss and the find the median.\n",
        "mean_tip <- mean(dat$tip_percent)\n",
        "print(paste(\"The average tip percent is\", mean_tip))\n",
        "\n",
        "theta = mean_tip\n",
        "absolute_loss = dat$tip_percent - theta\n",
        "sum_loss = sum(absolute_loss)\n",
        "mean_absolute_loss = sum_loss/length(absolute_loss)\n",
        "print(paste(\"The mean absolute loss with `theta = median of all the values in the tip_percent` is\", mean_absolute_loss))"
      ],
      "metadata": {
        "cell_id": "4d9e1f3e8c80456d871352cceb38421c",
        "source_hash": "301cd646",
        "execution_start": 1681706465150,
        "execution_millis": 37,
        "deepnote_to_be_reexecuted": false,
        "deepnote_cell_type": "code",
        "id": "JxyMk1Kw1x_q"
      },
      "outputs": [],
      "execution_count": null
    },
    {
      "cell_type": "markdown",
      "source": [
        "If you are not convinced that the value of $\\theta=15.5$ results in the smallest mean absolute loss, then try different $\\theta$ values and run the code cell below."
      ],
      "metadata": {
        "cell_id": "3d8c6ffc70f64a6eae1c7cf989a353f4",
        "deepnote_cell_type": "markdown",
        "id": "N_vb_-XE1x_q"
      }
    },
    {
      "cell_type": "code",
      "source": [
        "## Run this code but do not edit it\n",
        "# Find the median `tip_percent` column, then calculate the mean absolute loss and the find the median.\n",
        "theta = 12\n",
        "absolute_loss = dat$tip_percent - theta\n",
        "sum_loss = sum(absolute_loss)\n",
        "mean_absolute_loss = sum_loss/length(absolute_loss)\n",
        "print(paste(\"The mean absolute loss with `theta = median` of all the values in the tip_percent` is\", mean_absolute_loss))"
      ],
      "metadata": {
        "cell_id": "1eedcd355a9d4023b383aeb236964669",
        "allow_embed": false,
        "source_hash": "8e138910",
        "execution_start": 1681706465186,
        "execution_millis": 3,
        "deepnote_to_be_reexecuted": false,
        "deepnote_cell_type": "code",
        "id": "Es3yizDk1x_q"
      },
      "outputs": [],
      "execution_count": null
    },
    {
      "cell_type": "markdown",
      "source": [
        "**Question 3.8 -** Now we will implement the steps fo compute the mean squared loss. Remember the process:\n",
        "\n",
        "- Choose a value for $\\theta$\n",
        "- Compute the squared loss for each observation $(y-\\theta)^2$\n",
        "- Find the sum of all the loss\n",
        "- Divide the sum by the number of observations\n",
        "\n",
        "**Note:** We will do each step on a separate line.\n",
        "\n",
        "The code cell below implements the mean squared loss for the tip percent."
      ],
      "metadata": {
        "cell_id": "f017003de3b54c918a67d49c900d3b9f",
        "deepnote_cell_type": "markdown",
        "id": "jYtoTZdb1x_q"
      }
    },
    {
      "cell_type": "code",
      "source": [
        "## Choose a value for theta, compute the squared loss,\n",
        "# find the sum of all the loss, and\n",
        "# divide the sum by the number of observations\n",
        "\n",
        "theta = 10\n",
        "squared_loss = (dat$tip_percent - theta)^2\n",
        "sum_loss = sum(squared_loss)\n",
        "mean_squared_loss = sum_loss/length(squared_loss)\n",
        "\n",
        "print(paste(\"The mean squared loss with theta =\", theta, \" is \", mean_squared_loss))"
      ],
      "metadata": {
        "cell_id": "8aa5f9770e3d4f4885292367d15f4733",
        "allow_embed": false,
        "source_hash": "f14a3238",
        "execution_start": 1681706465187,
        "execution_millis": 1,
        "deepnote_to_be_reexecuted": false,
        "deepnote_cell_type": "code",
        "id": "qhvAKJwH1x_q"
      },
      "outputs": [],
      "execution_count": null
    },
    {
      "cell_type": "markdown",
      "source": [
        "Choose a different value for $\\theta$ between 10-20%. Assign your choice for $\\theta$ to `theta = `, then run the cell."
      ],
      "metadata": {
        "cell_id": "1a5894b2e0294720be7569e0fbf7dded",
        "deepnote_cell_type": "markdown",
        "id": "MIWsPODr1x_q"
      }
    },
    {
      "cell_type": "code",
      "source": [
        "## Choose a value for theta, compute the squared loss,\n",
        "# find the sum of all the loss, and\n",
        "# divide the sum by the number of observations\n",
        "\n",
        "theta = 15\n",
        "squared_loss = (dat$tip_percent - theta)^2\n",
        "sum_loss = sum(squared_loss)\n",
        "mean_squared_loss = sum_loss/length(squared_loss)\n",
        "\n",
        "print(paste(\"The mean squared loss with theta =\", theta, \" is \", mean_squared_loss))"
      ],
      "metadata": {
        "cell_id": "bce49a0bf78d4a1e81c4afef4dc64be3",
        "allow_embed": false,
        "source_hash": "9ded2629",
        "execution_start": 1681706465191,
        "execution_millis": 7,
        "deepnote_to_be_reexecuted": false,
        "deepnote_cell_type": "code",
        "id": "TAcgoqPU1x_q"
      },
      "outputs": [],
      "execution_count": null
    },
    {
      "cell_type": "markdown",
      "source": [
        "**Question 3.9 -** Was you value for mean squared loss greater than or less than the $\\theta=10$. Explain what it means for the value of `mean_squared_loss` to be greater for $\\theta=10$. What value of $\\theta$ do you think will result in the lowest amount for the `mean_squared_loss`?"
      ],
      "metadata": {
        "cell_id": "c24fb09ab28a43b9aab91a4c7d99b667",
        "deepnote_cell_type": "markdown",
        "id": "qiGl56Ur1x_q"
      }
    },
    {
      "cell_type": "markdown",
      "source": [
        "**Double-click this cell to type your answer here:**"
      ],
      "metadata": {
        "cell_id": "3ba00022270348949f2178d3f8f0579d",
        "deepnote_cell_type": "markdown",
        "id": "fl6vREb81x_q"
      }
    },
    {
      "cell_type": "markdown",
      "source": [
        "<div class=\"alert alert-block alert-info\"><b>Sample Response:</b> The best value to choose for predciting mean squared loss is the mean.</div>"
      ],
      "metadata": {
        "cell_id": "ca8509c8ad7c45be9b25f5691a618fb4",
        "deepnote_cell_type": "markdown",
        "id": "I15NFH2L1x_q"
      }
    },
    {
      "cell_type": "markdown",
      "source": [
        "Now, let's try setting the value of $\\theta$ to the mean. Then check the results from our `mean_squared_loss` process."
      ],
      "metadata": {
        "cell_id": "8b1a5839acbf47b1a0208fc848edf992",
        "deepnote_cell_type": "markdown",
        "id": "lx0ds1DL1x_q"
      }
    },
    {
      "cell_type": "code",
      "source": [
        "## Run this code but do not edit it\n",
        "# Find the median `tip_percent` column, then calculate the mean absolute loss and the find the median.\n",
        "mean_tip <- mean(dat$tip_percent)\n",
        "print(paste(\"The average tip percent is\", mean_tip))\n",
        "\n",
        "theta = mean_tip\n",
        "squared_loss = (dat$tip_percent - theta)^2\n",
        "sum_loss = sum(squared_loss)\n",
        "mean_squared_loss = sum_loss/length(squared_loss)\n",
        "print(paste(\"The mean squared loss with `theta = mean of all the values in the tip_percent` is\", mean_squared_loss))"
      ],
      "metadata": {
        "cell_id": "b593906826d54e9eaa375dcd17d1893d",
        "source_hash": "c7738f4c",
        "execution_start": 1681706465315,
        "execution_millis": 8,
        "deepnote_to_be_reexecuted": false,
        "deepnote_cell_type": "code",
        "id": "ttVRRnNM1x_q"
      },
      "outputs": [],
      "execution_count": null
    },
    {
      "cell_type": "markdown",
      "source": [
        "If you are not convinced that the value of $\\theta=16$ results in the smallest mean squared loss, then try different $\\theta$ values and run the code cell below."
      ],
      "metadata": {
        "cell_id": "34d5d1c5c19b4ad392623ee64b208e70",
        "deepnote_cell_type": "markdown",
        "id": "2CpuPsyc1x_q"
      }
    },
    {
      "cell_type": "code",
      "source": [
        "## Run this code but do not edit it\n",
        "# Find the median `tip_percent` column, then calculate the mean absolute loss and the find the median.\n",
        "mean_tip <- mean(dat$tip_percent)\n",
        "print(paste(\"The average tip percent is\", mean_tip))\n",
        "\n",
        "theta = 12\n",
        "squared_loss = (dat$tip_percent - theta)^2\n",
        "sum_loss = sum(squared_loss)\n",
        "mean_squared_loss = sum_loss/length(squared_loss)\n",
        "print(paste(\"The mean squared loss with `theta = mean of all the values in the tip_percent` is\", mean_squared_loss))"
      ],
      "metadata": {
        "cell_id": "e4f694ac14b4491bbbd765c0581a71b4",
        "allow_embed": false,
        "source_hash": "617dc32c",
        "execution_start": 1681706465315,
        "execution_millis": 7,
        "deepnote_to_be_reexecuted": false,
        "deepnote_cell_type": "code",
        "id": "1COzFRZZ1x_q"
      },
      "outputs": [],
      "execution_count": null
    },
    {
      "cell_type": "markdown",
      "source": [
        "Now that we’ve worked with two loss functions, we can ask ourselves how do we choose between the median or mean? Since these statistics minimize different loss functions, we can equivalently ask: what is the most appropriate loss function for our problem? To answer this question, we look at the context of our problem.\n",
        "\n",
        "Compared to the mean absolute loss, the mean squared loss gives especially large losses when the tip is much larger (or smaller) than expected. An analyst who wants to understand the typical tip percent would use mean absolute loss and the median (15.5), but an analyst  who despises unexpected large tips might summarize the data using mean squared loss and the mean (16)."
      ],
      "metadata": {
        "cell_id": "6f224e0eded04c9b8f4d28e5cffa05b3",
        "deepnote_cell_type": "markdown",
        "id": "K-rDb3s31x_q"
      }
    },
    {
      "cell_type": "markdown",
      "source": [
        "We’ve introduced the constant model: a model that summarizes all of the data by a single value. To fit the constant model, we chose a loss function that measured how well a given constant fits a data value, and we computed the average loss over all of the data values. We saw that depending on the choice of loss function, we get a different minimizing value: we found that the mean minimizes the average squared loss, and the median minimizes the average absolute loss. We also discussed how we can incorporate context and knowledge of our problem to pick a loss function.\n",
        "\n",
        "The idea of fitting models through loss minimization ties simple summary statistics—like the mean, median-to more complex modeling situations. The process we took to model our data apply to many modeling scenarios:\n",
        "\n",
        "- Select the form of a model (such as the constant model)\n",
        "\n",
        "- Select a loss function (such as absolute or squared loss)\n",
        "\n",
        "- Fit the model by minimizing the loss over all the data (such as average loss)"
      ],
      "metadata": {
        "cell_id": "29124dc8d74843a9a6de6679b6da1779",
        "deepnote_cell_type": "markdown",
        "id": "4uqV0dCo1x_q"
      }
    },
    {
      "cell_type": "markdown",
      "source": [],
      "metadata": {
        "cell_id": "720ae0becf3f4f60bf7b6e3031fc3b2f",
        "deepnote_cell_type": "markdown",
        "id": "h12wIZww1x_r"
      }
    }
  ],
  "nbformat": 4,
  "nbformat_minor": 0,
  "metadata": {
    "deepnote": {},
    "orig_nbformat": 2,
    "deepnote_notebook_id": "11f19ca45d3b43fbafe20b1249b2179d",
    "deepnote_execution_queue": [],
    "colab": {
      "provenance": []
    },
    "language_info": {
      "name": "R"
    },
    "kernelspec": {
      "name": "ir",
      "display_name": "R"
    }
  }
}